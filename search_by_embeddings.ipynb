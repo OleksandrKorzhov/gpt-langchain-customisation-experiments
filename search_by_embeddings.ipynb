{
 "cells": [
  {
   "cell_type": "markdown",
   "source": [
    "## Step 1 - Add your OpenAI API key.\n",
    "The key must be taken from a registered OpenAI account.\n",
    "Link to the keys sub-menu https://platform.openai.com/account/api-keys."
   ],
   "metadata": {
    "collapsed": false
   }
  },
  {
   "cell_type": "code",
   "execution_count": 25,
   "outputs": [
    {
     "name": "stdout",
     "output_type": "stream",
     "text": [
      "env: OPENAI_API_KEY=YOUR_OPENAI_API_KEY\n"
     ]
    }
   ],
   "source": [
    "%env OPENAI_API_KEY YOUR_OPENAI_API_KEY"
   ],
   "metadata": {
    "collapsed": false,
    "ExecuteTime": {
     "start_time": "2023-05-22T14:11:40.868295Z",
     "end_time": "2023-05-22T14:11:40.870937Z"
    }
   }
  },
  {
   "cell_type": "markdown",
   "source": [
    "## Step 2 - Installing necessary libraries\n",
    "The libraries below are needed for:\n",
    "- Work with CSV files;\n",
    "- Visualising files characteristics;\n",
    "- Creating embeddings;\n",
    "- Prompting GPT model;"
   ],
   "metadata": {
    "collapsed": false
   }
  },
  {
   "cell_type": "code",
   "execution_count": 5,
   "outputs": [
    {
     "name": "stdout",
     "output_type": "stream",
     "text": [
      "Requirement already satisfied: openai in ./venv/lib/python3.9/site-packages (0.27.4)\r\n",
      "Requirement already satisfied: requests>=2.20 in ./venv/lib/python3.9/site-packages (from openai) (2.28.2)\r\n",
      "Requirement already satisfied: aiohttp in ./venv/lib/python3.9/site-packages (from openai) (3.8.4)\r\n",
      "Requirement already satisfied: tqdm in ./venv/lib/python3.9/site-packages (from openai) (4.65.0)\r\n",
      "Requirement already satisfied: charset-normalizer<4,>=2 in ./venv/lib/python3.9/site-packages (from requests>=2.20->openai) (3.1.0)\r\n",
      "Requirement already satisfied: urllib3<1.27,>=1.21.1 in ./venv/lib/python3.9/site-packages (from requests>=2.20->openai) (1.26.15)\r\n",
      "Requirement already satisfied: certifi>=2017.4.17 in ./venv/lib/python3.9/site-packages (from requests>=2.20->openai) (2022.12.7)\r\n",
      "Requirement already satisfied: idna<4,>=2.5 in ./venv/lib/python3.9/site-packages (from requests>=2.20->openai) (3.4)\r\n",
      "Requirement already satisfied: frozenlist>=1.1.1 in ./venv/lib/python3.9/site-packages (from aiohttp->openai) (1.3.3)\r\n",
      "Requirement already satisfied: async-timeout<5.0,>=4.0.0a3 in ./venv/lib/python3.9/site-packages (from aiohttp->openai) (4.0.2)\r\n",
      "Requirement already satisfied: aiosignal>=1.1.2 in ./venv/lib/python3.9/site-packages (from aiohttp->openai) (1.3.1)\r\n",
      "Requirement already satisfied: yarl<2.0,>=1.0 in ./venv/lib/python3.9/site-packages (from aiohttp->openai) (1.8.2)\r\n",
      "Requirement already satisfied: attrs>=17.3.0 in ./venv/lib/python3.9/site-packages (from aiohttp->openai) (23.1.0)\r\n",
      "Requirement already satisfied: multidict<7.0,>=4.5 in ./venv/lib/python3.9/site-packages (from aiohttp->openai) (6.0.4)\r\n",
      "\r\n",
      "\u001B[1m[\u001B[0m\u001B[34;49mnotice\u001B[0m\u001B[1;39;49m]\u001B[0m\u001B[39;49m A new release of pip available: \u001B[0m\u001B[31;49m22.3.1\u001B[0m\u001B[39;49m -> \u001B[0m\u001B[32;49m23.1.2\u001B[0m\r\n",
      "\u001B[1m[\u001B[0m\u001B[34;49mnotice\u001B[0m\u001B[1;39;49m]\u001B[0m\u001B[39;49m To update, run: \u001B[0m\u001B[32;49mpip install --upgrade pip\u001B[0m\r\n",
      "Requirement already satisfied: openai[embedding_utils] in ./venv/lib/python3.9/site-packages (0.27.4)\r\n",
      "\u001B[33mWARNING: openai 0.27.4 does not provide the extra 'embedding_utils'\u001B[0m\u001B[33m\r\n",
      "\u001B[0mRequirement already satisfied: tqdm in ./venv/lib/python3.9/site-packages (from openai[embedding_utils]) (4.65.0)\r\n",
      "Requirement already satisfied: aiohttp in ./venv/lib/python3.9/site-packages (from openai[embedding_utils]) (3.8.4)\r\n",
      "Requirement already satisfied: requests>=2.20 in ./venv/lib/python3.9/site-packages (from openai[embedding_utils]) (2.28.2)\r\n",
      "Requirement already satisfied: charset-normalizer<4,>=2 in ./venv/lib/python3.9/site-packages (from requests>=2.20->openai[embedding_utils]) (3.1.0)\r\n",
      "Requirement already satisfied: urllib3<1.27,>=1.21.1 in ./venv/lib/python3.9/site-packages (from requests>=2.20->openai[embedding_utils]) (1.26.15)\r\n",
      "Requirement already satisfied: certifi>=2017.4.17 in ./venv/lib/python3.9/site-packages (from requests>=2.20->openai[embedding_utils]) (2022.12.7)\r\n",
      "Requirement already satisfied: idna<4,>=2.5 in ./venv/lib/python3.9/site-packages (from requests>=2.20->openai[embedding_utils]) (3.4)\r\n",
      "Requirement already satisfied: yarl<2.0,>=1.0 in ./venv/lib/python3.9/site-packages (from aiohttp->openai[embedding_utils]) (1.8.2)\r\n",
      "Requirement already satisfied: async-timeout<5.0,>=4.0.0a3 in ./venv/lib/python3.9/site-packages (from aiohttp->openai[embedding_utils]) (4.0.2)\r\n",
      "Requirement already satisfied: multidict<7.0,>=4.5 in ./venv/lib/python3.9/site-packages (from aiohttp->openai[embedding_utils]) (6.0.4)\r\n",
      "Requirement already satisfied: attrs>=17.3.0 in ./venv/lib/python3.9/site-packages (from aiohttp->openai[embedding_utils]) (23.1.0)\r\n",
      "Requirement already satisfied: frozenlist>=1.1.1 in ./venv/lib/python3.9/site-packages (from aiohttp->openai[embedding_utils]) (1.3.3)\r\n",
      "Requirement already satisfied: aiosignal>=1.1.2 in ./venv/lib/python3.9/site-packages (from aiohttp->openai[embedding_utils]) (1.3.1)\r\n",
      "\r\n",
      "\u001B[1m[\u001B[0m\u001B[34;49mnotice\u001B[0m\u001B[1;39;49m]\u001B[0m\u001B[39;49m A new release of pip available: \u001B[0m\u001B[31;49m22.3.1\u001B[0m\u001B[39;49m -> \u001B[0m\u001B[32;49m23.1.2\u001B[0m\r\n",
      "\u001B[1m[\u001B[0m\u001B[34;49mnotice\u001B[0m\u001B[1;39;49m]\u001B[0m\u001B[39;49m To update, run: \u001B[0m\u001B[32;49mpip install --upgrade pip\u001B[0m\r\n",
      "Requirement already satisfied: pandas in ./venv/lib/python3.9/site-packages (2.0.0)\r\n",
      "Requirement already satisfied: tzdata>=2022.1 in ./venv/lib/python3.9/site-packages (from pandas) (2023.3)\r\n",
      "Requirement already satisfied: pytz>=2020.1 in ./venv/lib/python3.9/site-packages (from pandas) (2023.3)\r\n",
      "Requirement already satisfied: python-dateutil>=2.8.2 in ./venv/lib/python3.9/site-packages (from pandas) (2.8.2)\r\n",
      "Requirement already satisfied: numpy>=1.20.3 in ./venv/lib/python3.9/site-packages (from pandas) (1.24.2)\r\n",
      "Requirement already satisfied: six>=1.5 in ./venv/lib/python3.9/site-packages (from python-dateutil>=2.8.2->pandas) (1.16.0)\r\n",
      "\r\n",
      "\u001B[1m[\u001B[0m\u001B[34;49mnotice\u001B[0m\u001B[1;39;49m]\u001B[0m\u001B[39;49m A new release of pip available: \u001B[0m\u001B[31;49m22.3.1\u001B[0m\u001B[39;49m -> \u001B[0m\u001B[32;49m23.1.2\u001B[0m\r\n",
      "\u001B[1m[\u001B[0m\u001B[34;49mnotice\u001B[0m\u001B[1;39;49m]\u001B[0m\u001B[39;49m To update, run: \u001B[0m\u001B[32;49mpip install --upgrade pip\u001B[0m\r\n",
      "Requirement already satisfied: numpy in ./venv/lib/python3.9/site-packages (1.24.2)\r\n",
      "\r\n",
      "\u001B[1m[\u001B[0m\u001B[34;49mnotice\u001B[0m\u001B[1;39;49m]\u001B[0m\u001B[39;49m A new release of pip available: \u001B[0m\u001B[31;49m22.3.1\u001B[0m\u001B[39;49m -> \u001B[0m\u001B[32;49m23.1.2\u001B[0m\r\n",
      "\u001B[1m[\u001B[0m\u001B[34;49mnotice\u001B[0m\u001B[1;39;49m]\u001B[0m\u001B[39;49m To update, run: \u001B[0m\u001B[32;49mpip install --upgrade pip\u001B[0m\r\n",
      "Requirement already satisfied: scikit-learn in ./venv/lib/python3.9/site-packages (1.2.2)\r\n",
      "Requirement already satisfied: threadpoolctl>=2.0.0 in ./venv/lib/python3.9/site-packages (from scikit-learn) (3.1.0)\r\n",
      "Requirement already satisfied: joblib>=1.1.1 in ./venv/lib/python3.9/site-packages (from scikit-learn) (1.2.0)\r\n",
      "Requirement already satisfied: numpy>=1.17.3 in ./venv/lib/python3.9/site-packages (from scikit-learn) (1.24.2)\r\n",
      "Requirement already satisfied: scipy>=1.3.2 in ./venv/lib/python3.9/site-packages (from scikit-learn) (1.10.1)\r\n",
      "\r\n",
      "\u001B[1m[\u001B[0m\u001B[34;49mnotice\u001B[0m\u001B[1;39;49m]\u001B[0m\u001B[39;49m A new release of pip available: \u001B[0m\u001B[31;49m22.3.1\u001B[0m\u001B[39;49m -> \u001B[0m\u001B[32;49m23.1.2\u001B[0m\r\n",
      "\u001B[1m[\u001B[0m\u001B[34;49mnotice\u001B[0m\u001B[1;39;49m]\u001B[0m\u001B[39;49m To update, run: \u001B[0m\u001B[32;49mpip install --upgrade pip\u001B[0m\r\n",
      "Requirement already satisfied: langchain in ./venv/lib/python3.9/site-packages (0.0.142)\r\n",
      "Requirement already satisfied: numpy<2,>=1 in ./venv/lib/python3.9/site-packages (from langchain) (1.24.2)\r\n",
      "Requirement already satisfied: pydantic<2,>=1 in ./venv/lib/python3.9/site-packages (from langchain) (1.10.7)\r\n",
      "Requirement already satisfied: gptcache>=0.1.7 in ./venv/lib/python3.9/site-packages (from langchain) (0.1.13)\r\n",
      "Requirement already satisfied: requests<3,>=2 in ./venv/lib/python3.9/site-packages (from langchain) (2.28.2)\r\n",
      "Requirement already satisfied: PyYAML>=5.4.1 in ./venv/lib/python3.9/site-packages (from langchain) (6.0)\r\n",
      "Requirement already satisfied: SQLAlchemy<2,>=1 in ./venv/lib/python3.9/site-packages (from langchain) (1.4.47)\r\n",
      "Requirement already satisfied: async-timeout<5.0.0,>=4.0.0 in ./venv/lib/python3.9/site-packages (from langchain) (4.0.2)\r\n",
      "Requirement already satisfied: dataclasses-json<0.6.0,>=0.5.7 in ./venv/lib/python3.9/site-packages (from langchain) (0.5.7)\r\n",
      "Requirement already satisfied: openapi-schema-pydantic<2.0,>=1.2 in ./venv/lib/python3.9/site-packages (from langchain) (1.2.4)\r\n",
      "Requirement already satisfied: numexpr<3.0.0,>=2.8.4 in ./venv/lib/python3.9/site-packages (from langchain) (2.8.4)\r\n",
      "Requirement already satisfied: tenacity<9.0.0,>=8.1.0 in ./venv/lib/python3.9/site-packages (from langchain) (8.2.2)\r\n",
      "Requirement already satisfied: aiohttp<4.0.0,>=3.8.3 in ./venv/lib/python3.9/site-packages (from langchain) (3.8.4)\r\n",
      "Requirement already satisfied: aiosignal>=1.1.2 in ./venv/lib/python3.9/site-packages (from aiohttp<4.0.0,>=3.8.3->langchain) (1.3.1)\r\n",
      "Requirement already satisfied: yarl<2.0,>=1.0 in ./venv/lib/python3.9/site-packages (from aiohttp<4.0.0,>=3.8.3->langchain) (1.8.2)\r\n",
      "Requirement already satisfied: charset-normalizer<4.0,>=2.0 in ./venv/lib/python3.9/site-packages (from aiohttp<4.0.0,>=3.8.3->langchain) (3.1.0)\r\n",
      "Requirement already satisfied: attrs>=17.3.0 in ./venv/lib/python3.9/site-packages (from aiohttp<4.0.0,>=3.8.3->langchain) (23.1.0)\r\n",
      "Requirement already satisfied: frozenlist>=1.1.1 in ./venv/lib/python3.9/site-packages (from aiohttp<4.0.0,>=3.8.3->langchain) (1.3.3)\r\n",
      "Requirement already satisfied: multidict<7.0,>=4.5 in ./venv/lib/python3.9/site-packages (from aiohttp<4.0.0,>=3.8.3->langchain) (6.0.4)\r\n",
      "Requirement already satisfied: typing-inspect>=0.4.0 in ./venv/lib/python3.9/site-packages (from dataclasses-json<0.6.0,>=0.5.7->langchain) (0.8.0)\r\n",
      "Requirement already satisfied: marshmallow-enum<2.0.0,>=1.5.1 in ./venv/lib/python3.9/site-packages (from dataclasses-json<0.6.0,>=0.5.7->langchain) (1.5.1)\r\n",
      "Requirement already satisfied: marshmallow<4.0.0,>=3.3.0 in ./venv/lib/python3.9/site-packages (from dataclasses-json<0.6.0,>=0.5.7->langchain) (3.19.0)\r\n",
      "Requirement already satisfied: cachetools in ./venv/lib/python3.9/site-packages (from gptcache>=0.1.7->langchain) (5.3.0)\r\n",
      "Requirement already satisfied: openai in ./venv/lib/python3.9/site-packages (from gptcache>=0.1.7->langchain) (0.27.4)\r\n",
      "Requirement already satisfied: typing-extensions>=4.2.0 in ./venv/lib/python3.9/site-packages (from pydantic<2,>=1->langchain) (4.5.0)\r\n",
      "Requirement already satisfied: urllib3<1.27,>=1.21.1 in ./venv/lib/python3.9/site-packages (from requests<3,>=2->langchain) (1.26.15)\r\n",
      "Requirement already satisfied: idna<4,>=2.5 in ./venv/lib/python3.9/site-packages (from requests<3,>=2->langchain) (3.4)\r\n",
      "Requirement already satisfied: certifi>=2017.4.17 in ./venv/lib/python3.9/site-packages (from requests<3,>=2->langchain) (2022.12.7)\r\n",
      "Requirement already satisfied: packaging>=17.0 in ./venv/lib/python3.9/site-packages (from marshmallow<4.0.0,>=3.3.0->dataclasses-json<0.6.0,>=0.5.7->langchain) (23.1)\r\n",
      "Requirement already satisfied: mypy-extensions>=0.3.0 in ./venv/lib/python3.9/site-packages (from typing-inspect>=0.4.0->dataclasses-json<0.6.0,>=0.5.7->langchain) (1.0.0)\r\n",
      "Requirement already satisfied: tqdm in ./venv/lib/python3.9/site-packages (from openai->gptcache>=0.1.7->langchain) (4.65.0)\r\n",
      "\r\n",
      "\u001B[1m[\u001B[0m\u001B[34;49mnotice\u001B[0m\u001B[1;39;49m]\u001B[0m\u001B[39;49m A new release of pip available: \u001B[0m\u001B[31;49m22.3.1\u001B[0m\u001B[39;49m -> \u001B[0m\u001B[32;49m23.1.2\u001B[0m\r\n",
      "\u001B[1m[\u001B[0m\u001B[34;49mnotice\u001B[0m\u001B[1;39;49m]\u001B[0m\u001B[39;49m To update, run: \u001B[0m\u001B[32;49mpip install --upgrade pip\u001B[0m\r\n",
      "Requirement already satisfied: matplotlib in ./venv/lib/python3.9/site-packages (3.7.1)\r\n",
      "Requirement already satisfied: fonttools>=4.22.0 in ./venv/lib/python3.9/site-packages (from matplotlib) (4.39.3)\r\n",
      "Requirement already satisfied: numpy>=1.20 in ./venv/lib/python3.9/site-packages (from matplotlib) (1.24.2)\r\n",
      "Requirement already satisfied: packaging>=20.0 in ./venv/lib/python3.9/site-packages (from matplotlib) (23.1)\r\n",
      "Requirement already satisfied: python-dateutil>=2.7 in ./venv/lib/python3.9/site-packages (from matplotlib) (2.8.2)\r\n",
      "Requirement already satisfied: kiwisolver>=1.0.1 in ./venv/lib/python3.9/site-packages (from matplotlib) (1.4.4)\r\n",
      "Requirement already satisfied: contourpy>=1.0.1 in ./venv/lib/python3.9/site-packages (from matplotlib) (1.0.7)\r\n",
      "Requirement already satisfied: pyparsing>=2.3.1 in ./venv/lib/python3.9/site-packages (from matplotlib) (3.0.9)\r\n",
      "Requirement already satisfied: cycler>=0.10 in ./venv/lib/python3.9/site-packages (from matplotlib) (0.11.0)\r\n",
      "Requirement already satisfied: pillow>=6.2.0 in ./venv/lib/python3.9/site-packages (from matplotlib) (9.5.0)\r\n",
      "Requirement already satisfied: importlib-resources>=3.2.0 in ./venv/lib/python3.9/site-packages (from matplotlib) (5.12.0)\r\n",
      "Requirement already satisfied: zipp>=3.1.0 in ./venv/lib/python3.9/site-packages (from importlib-resources>=3.2.0->matplotlib) (3.15.0)\r\n",
      "Requirement already satisfied: six>=1.5 in ./venv/lib/python3.9/site-packages (from python-dateutil>=2.7->matplotlib) (1.16.0)\r\n",
      "\r\n",
      "\u001B[1m[\u001B[0m\u001B[34;49mnotice\u001B[0m\u001B[1;39;49m]\u001B[0m\u001B[39;49m A new release of pip available: \u001B[0m\u001B[31;49m22.3.1\u001B[0m\u001B[39;49m -> \u001B[0m\u001B[32;49m23.1.2\u001B[0m\r\n",
      "\u001B[1m[\u001B[0m\u001B[34;49mnotice\u001B[0m\u001B[1;39;49m]\u001B[0m\u001B[39;49m To update, run: \u001B[0m\u001B[32;49mpip install --upgrade pip\u001B[0m\r\n"
     ]
    }
   ],
   "source": [
    "!pip install openai\n",
    "!pip install \"openai[embedding_utils]\"\n",
    "!pip install pandas\n",
    "!pip install numpy\n",
    "!pip install scikit-learn\n",
    "!pip install langchain\n",
    "!pip install matplotlib"
   ],
   "metadata": {
    "collapsed": false,
    "ExecuteTime": {
     "start_time": "2023-05-22T13:36:17.113054Z",
     "end_time": "2023-05-22T13:36:25.025389Z"
    }
   }
  },
  {
   "cell_type": "markdown",
   "source": [
    "## Step 3 - Libraries import\n",
    "Imported libraries will be used across the whole notebook"
   ],
   "metadata": {
    "collapsed": false
   }
  },
  {
   "cell_type": "code",
   "execution_count": 6,
   "outputs": [],
   "source": [
    "import pandas as pd\n",
    "import openai\n",
    "import numpy as np\n",
    "from langchain import OpenAI, LLMChain\n",
    "from langchain.prompts import Prompt\n",
    "\n",
    "from openai.embeddings_utils import cosine_similarity\n",
    "\n",
    "from utils import get_embedding"
   ],
   "metadata": {
    "collapsed": false,
    "ExecuteTime": {
     "start_time": "2023-05-22T13:36:29.526458Z",
     "end_time": "2023-05-22T13:36:29.531703Z"
    }
   }
  },
  {
   "cell_type": "markdown",
   "source": [
    "## Step 4 - Configuration\n",
    "The parameters below will be used across the whole notebook"
   ],
   "metadata": {
    "collapsed": false
   }
  },
  {
   "cell_type": "code",
   "execution_count": 7,
   "outputs": [],
   "source": [
    "\"\"\"\n",
    "The model to be used for creating embeddings\n",
    "\"\"\"\n",
    "embedding_model = \"text-embedding-ada-002\"\n",
    "\n",
    "\"\"\"\n",
    "The characters encoding for text-embedding-ada-002\n",
    "\"\"\"\n",
    "embedding_encoding = \"cl100k_base\"\n",
    "\n",
    "\"\"\"\n",
    "The maximal tokens number that a text chunk passed to the embeddings model can have.\n",
    "Actual maximum for text-embedding-ada-002 is 8191\n",
    "\"\"\"\n",
    "max_tokens = 8000"
   ],
   "metadata": {
    "collapsed": false,
    "ExecuteTime": {
     "start_time": "2023-05-22T13:36:33.877688Z",
     "end_time": "2023-05-22T13:36:33.882086Z"
    }
   }
  },
  {
   "cell_type": "markdown",
   "source": [
    "## Step 5 - Loading a prepared dataset\n",
    "The dataset loaded below is the result of another notebook that must be run prior to the current one.\n",
    "The [data preparation](./data_preparation.ipynb) notebook.\n",
    "\n",
    "### IMPORTANT!\n",
    "The required file `docs/50_reviews_with_embeddings.csv` already created and is present in the repo, so there is no need to separately run the data preparation step before playing with this notebook!"
   ],
   "metadata": {
    "collapsed": false
   }
  },
  {
   "cell_type": "code",
   "execution_count": 10,
   "outputs": [
    {
     "data": {
      "text/plain": "   Unnamed: 0   ProductId          UserId  Score   \n0      346130  B004TJF3BE  A2TZKSY1ZWPOU9      5  \\\n1      135890  B001ACMCLM  A2PCNXBSKCABG5      4   \n2      182237  B004LM9KHW  A1AOOCCQ27K9IT      3   \n3      354602  B000LKU3A6  A2YRK0YLBN5CC2      3   \n4      320387  B008JA73RG   AFJFXN42RZ3G2      4   \n\n                           Summary   \n0               Great Hot Cider!!!  \\\n1  GOOD GLUTEN FREE BREAD STCK MIX   \n2     French Vanilla Wolfgang Puck   \n3      Good flavor, but a wet mess   \n4      Neither too sweet nor fizzy   \n\n                                                Text   \n0  It is hard to find much of anything sugarfree ...  \\\n1  Makes very good break sticks.. Also can be use...   \n2  Product is easy to use.... Just cut or tear pa...   \n3  I got the teriyaki flavor and, while the flavo...   \n4  V8 V-Fusion may appear to be the typical energ...   \n\n                                            combined  n_tokens   \n0  Title: Great Hot Cider!!!; Content: It is hard...        46  \\\n1  Title: GOOD GLUTEN FREE BREAD STCK MIX; Conten...        52   \n2  Title: French Vanilla Wolfgang Puck; Content: ...       123   \n3  Title: Good flavor, but a wet mess; Content: I...       267   \n4  Title: Neither too sweet nor fizzy; Content: V...       230   \n\n                                           embedding  \n0  [0.0007746443734504282, -0.0042549604550004005...  \n1  [-0.0011603275779634714, -0.009558608755469322...  \n2  [0.004102123901247978, -0.014700944535434246, ...  \n3  [-0.01738598570227623, 0.001981155714020133, -...  \n4  [-0.0018182089552283287, -0.031320970505476, 0...  ",
      "text/html": "<div>\n<style scoped>\n    .dataframe tbody tr th:only-of-type {\n        vertical-align: middle;\n    }\n\n    .dataframe tbody tr th {\n        vertical-align: top;\n    }\n\n    .dataframe thead th {\n        text-align: right;\n    }\n</style>\n<table border=\"1\" class=\"dataframe\">\n  <thead>\n    <tr style=\"text-align: right;\">\n      <th></th>\n      <th>Unnamed: 0</th>\n      <th>ProductId</th>\n      <th>UserId</th>\n      <th>Score</th>\n      <th>Summary</th>\n      <th>Text</th>\n      <th>combined</th>\n      <th>n_tokens</th>\n      <th>embedding</th>\n    </tr>\n  </thead>\n  <tbody>\n    <tr>\n      <th>0</th>\n      <td>346130</td>\n      <td>B004TJF3BE</td>\n      <td>A2TZKSY1ZWPOU9</td>\n      <td>5</td>\n      <td>Great Hot Cider!!!</td>\n      <td>It is hard to find much of anything sugarfree ...</td>\n      <td>Title: Great Hot Cider!!!; Content: It is hard...</td>\n      <td>46</td>\n      <td>[0.0007746443734504282, -0.0042549604550004005...</td>\n    </tr>\n    <tr>\n      <th>1</th>\n      <td>135890</td>\n      <td>B001ACMCLM</td>\n      <td>A2PCNXBSKCABG5</td>\n      <td>4</td>\n      <td>GOOD GLUTEN FREE BREAD STCK MIX</td>\n      <td>Makes very good break sticks.. Also can be use...</td>\n      <td>Title: GOOD GLUTEN FREE BREAD STCK MIX; Conten...</td>\n      <td>52</td>\n      <td>[-0.0011603275779634714, -0.009558608755469322...</td>\n    </tr>\n    <tr>\n      <th>2</th>\n      <td>182237</td>\n      <td>B004LM9KHW</td>\n      <td>A1AOOCCQ27K9IT</td>\n      <td>3</td>\n      <td>French Vanilla Wolfgang Puck</td>\n      <td>Product is easy to use.... Just cut or tear pa...</td>\n      <td>Title: French Vanilla Wolfgang Puck; Content: ...</td>\n      <td>123</td>\n      <td>[0.004102123901247978, -0.014700944535434246, ...</td>\n    </tr>\n    <tr>\n      <th>3</th>\n      <td>354602</td>\n      <td>B000LKU3A6</td>\n      <td>A2YRK0YLBN5CC2</td>\n      <td>3</td>\n      <td>Good flavor, but a wet mess</td>\n      <td>I got the teriyaki flavor and, while the flavo...</td>\n      <td>Title: Good flavor, but a wet mess; Content: I...</td>\n      <td>267</td>\n      <td>[-0.01738598570227623, 0.001981155714020133, -...</td>\n    </tr>\n    <tr>\n      <th>4</th>\n      <td>320387</td>\n      <td>B008JA73RG</td>\n      <td>AFJFXN42RZ3G2</td>\n      <td>4</td>\n      <td>Neither too sweet nor fizzy</td>\n      <td>V8 V-Fusion may appear to be the typical energ...</td>\n      <td>Title: Neither too sweet nor fizzy; Content: V...</td>\n      <td>230</td>\n      <td>[-0.0018182089552283287, -0.031320970505476, 0...</td>\n    </tr>\n  </tbody>\n</table>\n</div>"
     },
     "execution_count": 10,
     "metadata": {},
     "output_type": "execute_result"
    }
   ],
   "source": [
    "df = pd.read_csv(\"./docs/50_reviews_with_embeddings.csv\")\n",
    "df[\"embedding\"] = df.embedding.apply(eval).apply(np.array)\n",
    "\n",
    "df.head(5)"
   ],
   "metadata": {
    "collapsed": false,
    "ExecuteTime": {
     "start_time": "2023-05-22T13:44:48.447713Z",
     "end_time": "2023-05-22T13:44:48.580573Z"
    }
   }
  },
  {
   "cell_type": "markdown",
   "source": [
    "## Step 6 - Search functionality\n",
    "Search is used to get the most relevant to the prompt data.\n",
    "\n",
    "At the high level search creates embeddings (via OpenAI API) for the user provided prompt and then uses them to find the \"closest\" records in the prepared dataset."
   ],
   "metadata": {
    "collapsed": false
   }
  },
  {
   "cell_type": "code",
   "execution_count": 17,
   "outputs": [],
   "source": [
    "def search(source_df, query_str, depth):\n",
    "    \"\"\"\n",
    "    Generates embeddings for the given \"query_str\" and produces search response based on the \"embeddings\" vectors similarity.\n",
    "\n",
    "    Returns the number of most compatible records according to the \"dept\" param\n",
    "\n",
    "    :param source_df: Pandas dataframe\n",
    "    :param query_str: str\n",
    "    :param depth: int\n",
    "    :return: Pandas dataframe\n",
    "    \"\"\"\n",
    "    query_embedding = get_embedding(query_str, model=embedding_model)\n",
    "    source_df[\"similarities\"] = df.embedding.apply(lambda x: cosine_similarity(x, query_embedding))\n",
    "    res = source_df.sort_values(\"similarities\", ascending=False).head(depth)\n",
    "    return res"
   ],
   "metadata": {
    "collapsed": false,
    "ExecuteTime": {
     "start_time": "2023-05-22T14:06:02.453105Z",
     "end_time": "2023-05-22T14:06:02.455799Z"
    }
   }
  },
  {
   "cell_type": "markdown",
   "source": [
    "## Step 7 - Prepare your prompt template\n",
    "Prompt template is used for amending the user provided prompt with additional information and settings for the final ML model (GPT in this case). As the result the ML model receives not only the user prompt but also any necessary restrictions, settings, data to produce the final result (text generation in the GPT case)."
   ],
   "metadata": {
    "collapsed": false
   }
  },
  {
   "cell_type": "code",
   "execution_count": 15,
   "outputs": [],
   "source": [
    "# The prompt below is just an example and very likely requires customisation\n",
    "prompt_template = \"\"\"\n",
    "You are Alex, Senior Infrastructure Engineer.  You will talk to the human conversing with you and provide meaningful answers as they ask questions.\n",
    "Avoid saying things like \"how can I help you?\".\n",
    "Be social and engaging while you speak, and be very logically and technically oriented.\n",
    "\n",
    "Use appropriate language and encouraging statements.\n",
    "Don't make your answers so long unless you are asked your opinion, something about your past, or if you are asked to explain a concept.\n",
    "Don't repeat an identical answer if you have given it in the past, or it appears in ConversationHistory.\n",
    "Be honest, if you can't answer something, tell the human that you can't provide an answer.\n",
    "Use the following pieces of MemoryContext to answer the question at the end. Also remember ConversationHistory is a list of Conversation objects.\n",
    "---\n",
    "ConversationHistory: {history}\n",
    "---\n",
    "MemoryContext: {context}\n",
    "---\n",
    "Human: {question}\n",
    "Bot:\n",
    "\"\"\"\n",
    "\n",
    "prompt = Prompt(template=prompt_template, input_variables=[\"history\", \"context\", \"question\"])\n",
    "llm_chain = LLMChain(prompt=prompt, llm=OpenAI(temperature=0.15))"
   ],
   "metadata": {
    "collapsed": false,
    "ExecuteTime": {
     "start_time": "2023-05-22T14:05:25.972433Z",
     "end_time": "2023-05-22T14:05:25.975004Z"
    }
   }
  },
  {
   "cell_type": "markdown",
   "source": [
    "## Step 8 - Predict functionality\n",
    "The search functionality and defined prompt above will be used to product the ML model response to the user input\n",
    "\n",
    "### Further evolution of the below:\n",
    "- Semantic search recommendations https://github.com/openai/openai-cookbook/blob/main/examples/Semantic_text_search_using_embeddings.ipynb;\n",
    "- Question answering using embeddings https://github.com/openai/openai-cookbook/blob/main/examples/Question_answering_using_embeddings.ipynb;"
   ],
   "metadata": {
    "collapsed": false
   }
  },
  {
   "cell_type": "code",
   "execution_count": 22,
   "outputs": [],
   "source": [
    "def search_contexts_by_text_prompt(text_prompt):\n",
    "    res = search(df, query_str=text_prompt, depth=10)\n",
    "    str_formatted_results = \"\\n\\n - \".join(res.combined.values)\n",
    "    print(f'Found results: {str_formatted_results}')\n",
    "    combined_values_list = list(res.combined.values)\n",
    "    prompt_contexts = []\n",
    "    for idx, value in enumerate(combined_values_list):\n",
    "        prompt_contexts.append(f'Context {idx}:\\n{value}')\n",
    "    return prompt_contexts\n",
    "\n",
    "history = []\n",
    "\n",
    "def predict_answer(question_str):\n",
    "    contexts = search_contexts_by_text_prompt(question_str)\n",
    "    answer = llm_chain.predict(\n",
    "        question=question_str,\n",
    "        context=\"\\n\\n\".join(contexts),\n",
    "        # History makes the ML stick to the conversation flow. Can be used to make additional prompt based on the result of the previous ones\n",
    "        # history=history\n",
    "        history=[]\n",
    "    )\n",
    "    history.append(f'Human: {question_str}')\n",
    "    history.append(f'Bot: {answer}')\n",
    "    return answer"
   ],
   "metadata": {
    "collapsed": false,
    "ExecuteTime": {
     "start_time": "2023-05-22T14:10:10.399726Z",
     "end_time": "2023-05-22T14:10:10.404265Z"
    }
   }
  },
  {
   "cell_type": "markdown",
   "source": [
    "## Step 9 - Q/A testing"
   ],
   "metadata": {
    "collapsed": false
   }
  },
  {
   "cell_type": "code",
   "execution_count": 23,
   "outputs": [
    {
     "name": "stdout",
     "output_type": "stream",
     "text": [
      "\n",
      "    Input: Who are you?\n",
      "    OpenAI API tokens usage:\n",
      "    - Prompt tokens: 4\n",
      "    - Total tokens: 4\n",
      "    \n",
      "Found results: Title: Morning Coffee; Content: Great coffee at a good price. I'm a subscription buyer and I buy this month after month. What more can I say?\n",
      "\n",
      " - Title: WOW.....; Content: This chocolate is amazing..I love the taste and smell, this is the only chocolate for me...I found a new love!\n",
      "\n",
      " - Title: Arizona Green Tea with Pomegranate & Acai; Content: I love the convenience of the mail order process as I cannot locate this product in any super market in my area.\n",
      "\n",
      " - Title: super; Content: I love this coffee!  And such a great price.  Will buy more when I am running out which will be soon.\n",
      "\n",
      " - Title: Supurb; Content: I was introduced to Lagavulin 16 three days ago. I'm no single malt Scotch authority, but this was straight out delicious; better than anything I've tried, including highly-touted and expensive products served at Robert Burns tastings. Microsoft: put \"Lagavulin\" in your dictionary.\n",
      "\n",
      " - Title: Jamica Me Crazy Coffee; Content: Wolfgang Puck's Jamaica Me Crazy is that wonderful blend of island flavors in a coffee. Have loved it from the first time tasting. Great product.\n",
      "\n",
      " - Title: 5 Star Tea at a super price!; Content: This tea is very good and perfect for the price....you can't go wrong with this product. A must buy for the tea lover.\n",
      "\n",
      " - Title: Came as expected; Content: It was tasty and fresh. The other one I bought was old and tasted moldy. But this one was good.\n",
      "\n",
      " - Title: Good Training Treat; Content: My dog will come in from outside when I am training her and look at the cupboard waiting for her treat. When I use the clicker training method she comes because she knows she has something special.\n",
      "\n",
      " - Title: Good Training Treat; Content: My dog will come in from outside when I am training her and look at the cupboard waiting for her treat. When I use the clicker training method she comes because she knows she has something special.\n"
     ]
    },
    {
     "data": {
      "text/plain": "\"Hello, I'm Alex, the Senior Infrastructure Engineer. I'm here to help you with any questions you may have about infrastructure engineering.\""
     },
     "execution_count": 23,
     "metadata": {},
     "output_type": "execute_result"
    }
   ],
   "source": [
    "question = \"Who are you?\"\n",
    "answer = predict_answer(question)\n",
    "answer"
   ],
   "metadata": {
    "collapsed": false,
    "ExecuteTime": {
     "start_time": "2023-05-22T14:10:14.096001Z",
     "end_time": "2023-05-22T14:10:16.669626Z"
    }
   }
  },
  {
   "cell_type": "code",
   "execution_count": 24,
   "outputs": [
    {
     "name": "stdout",
     "output_type": "stream",
     "text": [
      "\n",
      "    Input: What is Nectresse Sweetener?\n",
      "    OpenAI API tokens usage:\n",
      "    - Prompt tokens: 8\n",
      "    - Total tokens: 8\n",
      "    \n",
      "Found results: Title: Its LIGHT but very nice sweetener; Content: This Nectresse Sweetener is rather light in taste --but is very nice over other light foods such as fruits , berries , melons -----anywhere that lightness yet sweetness is desired.<br /><br />I also enjoyed it in iced teas .....especially my fruited teas like strawberry or orange.....<br /><br />I also used it hot teas as welll---but since it was summer more cold drinks went to table than hot.But it would be great on and in either.<br /><br />I did not try it as a cooking sweetener because of its smaller sized containers....so I cannot recommend it for baking or cooking.<br /><br />I can and whole heartedly DO RECOMMEND it for any type of sweetening  where its to be sprinkled over such as cereal , oatmeals ect.......or in drinks of any type...and fruits as I mentioned earlier !!<br /><br />NO bad tasted only nice sweetness !!\n",
      "\n",
      " - Title: This stuff is great!; Content: I'm surprised to see so many negative comments about this product. I don't notice any kind of aftertaste nor do I notice this \"cooling effect\". So far I've only had this by itself (just to taste it) and in coffee. Both experiences were positive. Look, it's not really that much money to try it, so if you want to avoid sugar and don't want something like Slenda (or Stevia -- yuck!) then why not give Nectresse a try?\n",
      "\n",
      " - Title: Great Hot Cider!!!; Content: It is hard to find much of anything sugarfree that really tastes good but this apple cider is the best.  I also love the regular hot apple cider in sugarfree form.\n",
      "\n",
      " - Title: More Like Pepsi; Content: There is a lot of cola syrups trying to be Coke but this one is shooting for Pepsi. It comes close to Pepsi but of course not a bull eye just like cola syrups can't be Coke, both Coke and Pepsi own the recipes for their drinks. Now that said this is  a very good tasting syrup and not a hard or sweet taste like other cola syrups but more mild flavor. My sister is a big Pepsi drinker and she likes this lot more that other cola syrups, she doesn't like Coke. I think we will be sticking with, it seems this is the only syrup trying to be like Pepsi. Again got the package in great shape and very fast, just wish the shipping could be lower. So if you're not a Coke drinker and want a syrup more like Pepsi, you found it!\n",
      "\n",
      " - Title: More Like Pepsi; Content: There is a lot of cola syrups trying to be Coke but this one is shooting for Pepsi. It comes close to Pepsi but of course not a bull eye just like cola syrups can't be Coke, both Coke and Pepsi own the recipes for their drinks. Now that said this is  a very good tasting syrup and not a hard or sweet taste like other cola syrups but more mild flavor. My sister is a big Pepsi drinker and she likes this lot more that other cola syrups, she doesn't like Coke. I think we will be sticking with, it seems this is the only syrup trying to be like Pepsi. Again got the package in great shape and very fast, just wish the shipping could be lower. So if you're not a Coke drinker and want a syrup more like Pepsi, you found it!\n",
      "\n",
      " - Title: Delicious .; Content: These plums are sweet and juicy, and the aroma is like perfume.  And it doesn't hurt that they are good for you, too.\n",
      "\n",
      " - Title: I prefer this, but Postum IS back; Content: I like this blend, use it lightly for a nice nighttime tea with almond milk and honey. But I noticed people bemoaning the loss of Postum, and wanted to let you know that it has returned. The new company got the trademark and says it tastes the same. You can read about it at postum dot com\n",
      "\n",
      " - Title: WOW.....; Content: This chocolate is amazing..I love the taste and smell, this is the only chocolate for me...I found a new love!\n",
      "\n",
      " - Title: Neither too sweet nor fizzy; Content: V8 V-Fusion may appear to be the typical energy drink that is available today, but the difference between V8 and drinks such as Red Bull, this drink contains vegetable and fruit and 50 calories.  This may be a nice alternative to carbonated sodas or sugary fruit juices because it contains nutritional ingredients that may provide a bit of energy for the day.  The drink contains fruity peach mango flavor, green tea, and vitamin B, but also a concentration of potatoes, yellow tomatoes, and carrots.<br /><br />With the natural energy that V8 V-Fusion provides, one may want to switch from the regular cup of coffee or fizzy pop that usually contains the energy for the day.  The taste is satisfying, not too sweet, fruity, acidic, or watery.  And after trying the 8 fl. Oz. Can, one may not be enough, however, the contents warn that it may not be recommended for children, women nursing or pregnant, or individuals watching their caffeine in take.  But one recommendation, chill the drink before serving.\n",
      "\n",
      " - Title: Awesome!!!; Content: This flavor is the best ever!!!  It tastes better than an orange Julius. Smooth and creamy - no grit at all!!!  Thanks for an awesome product.\n"
     ]
    },
    {
     "data": {
      "text/plain": "'Nectresse Sweetener is a light-tasting sweetener that is great for adding sweetness to light foods such as fruits, berries, melons, and iced or hot teas. It can also be used to sweeten cereal, oatmeal, and other dishes. However, it is not recommended for baking or cooking due to its smaller sized containers.'"
     },
     "execution_count": 24,
     "metadata": {},
     "output_type": "execute_result"
    }
   ],
   "source": [
    "question = \"What is Nectresse Sweetener?\"\n",
    "answer = predict_answer(question)\n",
    "answer"
   ],
   "metadata": {
    "collapsed": false,
    "ExecuteTime": {
     "start_time": "2023-05-22T14:11:05.799127Z",
     "end_time": "2023-05-22T14:11:10.534066Z"
    }
   }
  },
  {
   "cell_type": "code",
   "execution_count": null,
   "outputs": [],
   "source": [
    "question = \"What do you think about a hot cider?\"\n",
    "answer = predict_answer(question)\n",
    "answer"
   ],
   "metadata": {
    "collapsed": false
   }
  },
  {
   "cell_type": "code",
   "execution_count": null,
   "outputs": [],
   "source": [
    "question = \"Does hot cider taste good?\"\n",
    "answer = predict_answer(question)\n",
    "answer"
   ],
   "metadata": {
    "collapsed": false
   }
  },
  {
   "cell_type": "code",
   "execution_count": null,
   "outputs": [],
   "source": [],
   "metadata": {
    "collapsed": false
   }
  }
 ],
 "metadata": {
  "kernelspec": {
   "display_name": "Python 3",
   "language": "python",
   "name": "python3"
  },
  "language_info": {
   "codemirror_mode": {
    "name": "ipython",
    "version": 2
   },
   "file_extension": ".py",
   "mimetype": "text/x-python",
   "name": "python",
   "nbconvert_exporter": "python",
   "pygments_lexer": "ipython2",
   "version": "2.7.6"
  }
 },
 "nbformat": 4,
 "nbformat_minor": 0
}
