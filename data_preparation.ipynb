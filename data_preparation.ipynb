{
 "cells": [
  {
   "cell_type": "markdown",
   "source": [
    "## Step 1 - Add your OpenAI API key.\n",
    "The key must be taken from a registered OpenAI account.\n",
    "Link to the keys sub-menu https://platform.openai.com/account/api-keys."
   ],
   "metadata": {
    "collapsed": false
   }
  },
  {
   "cell_type": "code",
   "execution_count": 16,
   "outputs": [
    {
     "name": "stdout",
     "output_type": "stream",
     "text": [
      "env: OPENAI_API_KEY=YOUT_OPENAI_API_KEY\n"
     ]
    }
   ],
   "source": [
    "%env OPENAI_API_KEY=YOUT_OPENAI_API_KEY"
   ],
   "metadata": {
    "collapsed": false,
    "ExecuteTime": {
     "start_time": "2023-05-22T13:20:23.290845Z",
     "end_time": "2023-05-22T13:20:23.294292Z"
    }
   }
  },
  {
   "cell_type": "markdown",
   "source": [
    "## Step 2 - Installing necessary libraries\n",
    "The libraries below are needed for:\n",
    "- Work with CSV files;\n",
    "- Visualising files characteristics;\n",
    "- Creating embeddings;"
   ],
   "metadata": {
    "collapsed": false
   }
  },
  {
   "cell_type": "code",
   "execution_count": 4,
   "metadata": {
    "collapsed": true,
    "ExecuteTime": {
     "start_time": "2023-05-22T12:34:07.865619Z",
     "end_time": "2023-05-22T12:34:15.636671Z"
    }
   },
   "outputs": [
    {
     "name": "stdout",
     "output_type": "stream",
     "text": [
      "Requirement already satisfied: pandas in ./venv/lib/python3.9/site-packages (2.0.0)\r\n",
      "Requirement already satisfied: tzdata>=2022.1 in ./venv/lib/python3.9/site-packages (from pandas) (2023.3)\r\n",
      "Requirement already satisfied: pytz>=2020.1 in ./venv/lib/python3.9/site-packages (from pandas) (2023.3)\r\n",
      "Requirement already satisfied: numpy>=1.20.3 in ./venv/lib/python3.9/site-packages (from pandas) (1.24.2)\r\n",
      "Requirement already satisfied: python-dateutil>=2.8.2 in ./venv/lib/python3.9/site-packages (from pandas) (2.8.2)\r\n",
      "Requirement already satisfied: six>=1.5 in ./venv/lib/python3.9/site-packages (from python-dateutil>=2.8.2->pandas) (1.16.0)\r\n",
      "\r\n",
      "\u001B[1m[\u001B[0m\u001B[34;49mnotice\u001B[0m\u001B[1;39;49m]\u001B[0m\u001B[39;49m A new release of pip available: \u001B[0m\u001B[31;49m22.3.1\u001B[0m\u001B[39;49m -> \u001B[0m\u001B[32;49m23.1.2\u001B[0m\r\n",
      "\u001B[1m[\u001B[0m\u001B[34;49mnotice\u001B[0m\u001B[1;39;49m]\u001B[0m\u001B[39;49m To update, run: \u001B[0m\u001B[32;49mpip install --upgrade pip\u001B[0m\r\n",
      "Requirement already satisfied: tiktoken in ./venv/lib/python3.9/site-packages (0.3.3)\r\n",
      "Requirement already satisfied: regex>=2022.1.18 in ./venv/lib/python3.9/site-packages (from tiktoken) (2023.3.23)\r\n",
      "Requirement already satisfied: requests>=2.26.0 in ./venv/lib/python3.9/site-packages (from tiktoken) (2.28.2)\r\n",
      "Requirement already satisfied: idna<4,>=2.5 in ./venv/lib/python3.9/site-packages (from requests>=2.26.0->tiktoken) (3.4)\r\n",
      "Requirement already satisfied: certifi>=2017.4.17 in ./venv/lib/python3.9/site-packages (from requests>=2.26.0->tiktoken) (2022.12.7)\r\n",
      "Requirement already satisfied: charset-normalizer<4,>=2 in ./venv/lib/python3.9/site-packages (from requests>=2.26.0->tiktoken) (3.1.0)\r\n",
      "Requirement already satisfied: urllib3<1.27,>=1.21.1 in ./venv/lib/python3.9/site-packages (from requests>=2.26.0->tiktoken) (1.26.15)\r\n",
      "\r\n",
      "\u001B[1m[\u001B[0m\u001B[34;49mnotice\u001B[0m\u001B[1;39;49m]\u001B[0m\u001B[39;49m A new release of pip available: \u001B[0m\u001B[31;49m22.3.1\u001B[0m\u001B[39;49m -> \u001B[0m\u001B[32;49m23.1.2\u001B[0m\r\n",
      "\u001B[1m[\u001B[0m\u001B[34;49mnotice\u001B[0m\u001B[1;39;49m]\u001B[0m\u001B[39;49m To update, run: \u001B[0m\u001B[32;49mpip install --upgrade pip\u001B[0m\r\n",
      "Requirement already satisfied: openai in ./venv/lib/python3.9/site-packages (0.27.4)\r\n",
      "Requirement already satisfied: aiohttp in ./venv/lib/python3.9/site-packages (from openai) (3.8.4)\r\n",
      "Requirement already satisfied: tqdm in ./venv/lib/python3.9/site-packages (from openai) (4.65.0)\r\n",
      "Requirement already satisfied: requests>=2.20 in ./venv/lib/python3.9/site-packages (from openai) (2.28.2)\r\n",
      "Requirement already satisfied: certifi>=2017.4.17 in ./venv/lib/python3.9/site-packages (from requests>=2.20->openai) (2022.12.7)\r\n",
      "Requirement already satisfied: charset-normalizer<4,>=2 in ./venv/lib/python3.9/site-packages (from requests>=2.20->openai) (3.1.0)\r\n",
      "Requirement already satisfied: urllib3<1.27,>=1.21.1 in ./venv/lib/python3.9/site-packages (from requests>=2.20->openai) (1.26.15)\r\n",
      "Requirement already satisfied: idna<4,>=2.5 in ./venv/lib/python3.9/site-packages (from requests>=2.20->openai) (3.4)\r\n",
      "Requirement already satisfied: async-timeout<5.0,>=4.0.0a3 in ./venv/lib/python3.9/site-packages (from aiohttp->openai) (4.0.2)\r\n",
      "Requirement already satisfied: yarl<2.0,>=1.0 in ./venv/lib/python3.9/site-packages (from aiohttp->openai) (1.8.2)\r\n",
      "Requirement already satisfied: frozenlist>=1.1.1 in ./venv/lib/python3.9/site-packages (from aiohttp->openai) (1.3.3)\r\n",
      "Requirement already satisfied: multidict<7.0,>=4.5 in ./venv/lib/python3.9/site-packages (from aiohttp->openai) (6.0.4)\r\n",
      "Requirement already satisfied: attrs>=17.3.0 in ./venv/lib/python3.9/site-packages (from aiohttp->openai) (23.1.0)\r\n",
      "Requirement already satisfied: aiosignal>=1.1.2 in ./venv/lib/python3.9/site-packages (from aiohttp->openai) (1.3.1)\r\n",
      "\r\n",
      "\u001B[1m[\u001B[0m\u001B[34;49mnotice\u001B[0m\u001B[1;39;49m]\u001B[0m\u001B[39;49m A new release of pip available: \u001B[0m\u001B[31;49m22.3.1\u001B[0m\u001B[39;49m -> \u001B[0m\u001B[32;49m23.1.2\u001B[0m\r\n",
      "\u001B[1m[\u001B[0m\u001B[34;49mnotice\u001B[0m\u001B[1;39;49m]\u001B[0m\u001B[39;49m To update, run: \u001B[0m\u001B[32;49mpip install --upgrade pip\u001B[0m\r\n",
      "Requirement already satisfied: plotly in ./venv/lib/python3.9/site-packages (5.14.1)\r\n",
      "Requirement already satisfied: packaging in ./venv/lib/python3.9/site-packages (from plotly) (23.1)\r\n",
      "Requirement already satisfied: tenacity>=6.2.0 in ./venv/lib/python3.9/site-packages (from plotly) (8.2.2)\r\n",
      "\r\n",
      "\u001B[1m[\u001B[0m\u001B[34;49mnotice\u001B[0m\u001B[1;39;49m]\u001B[0m\u001B[39;49m A new release of pip available: \u001B[0m\u001B[31;49m22.3.1\u001B[0m\u001B[39;49m -> \u001B[0m\u001B[32;49m23.1.2\u001B[0m\r\n",
      "\u001B[1m[\u001B[0m\u001B[34;49mnotice\u001B[0m\u001B[1;39;49m]\u001B[0m\u001B[39;49m To update, run: \u001B[0m\u001B[32;49mpip install --upgrade pip\u001B[0m\r\n",
      "Requirement already satisfied: scipy in ./venv/lib/python3.9/site-packages (1.10.1)\r\n",
      "Requirement already satisfied: numpy<1.27.0,>=1.19.5 in ./venv/lib/python3.9/site-packages (from scipy) (1.24.2)\r\n",
      "\r\n",
      "\u001B[1m[\u001B[0m\u001B[34;49mnotice\u001B[0m\u001B[1;39;49m]\u001B[0m\u001B[39;49m A new release of pip available: \u001B[0m\u001B[31;49m22.3.1\u001B[0m\u001B[39;49m -> \u001B[0m\u001B[32;49m23.1.2\u001B[0m\r\n",
      "\u001B[1m[\u001B[0m\u001B[34;49mnotice\u001B[0m\u001B[1;39;49m]\u001B[0m\u001B[39;49m To update, run: \u001B[0m\u001B[32;49mpip install --upgrade pip\u001B[0m\r\n",
      "Requirement already satisfied: scikit-learn in ./venv/lib/python3.9/site-packages (1.2.2)\r\n",
      "Requirement already satisfied: scipy>=1.3.2 in ./venv/lib/python3.9/site-packages (from scikit-learn) (1.10.1)\r\n",
      "Requirement already satisfied: threadpoolctl>=2.0.0 in ./venv/lib/python3.9/site-packages (from scikit-learn) (3.1.0)\r\n",
      "Requirement already satisfied: joblib>=1.1.1 in ./venv/lib/python3.9/site-packages (from scikit-learn) (1.2.0)\r\n",
      "Requirement already satisfied: numpy>=1.17.3 in ./venv/lib/python3.9/site-packages (from scikit-learn) (1.24.2)\r\n",
      "\r\n",
      "\u001B[1m[\u001B[0m\u001B[34;49mnotice\u001B[0m\u001B[1;39;49m]\u001B[0m\u001B[39;49m A new release of pip available: \u001B[0m\u001B[31;49m22.3.1\u001B[0m\u001B[39;49m -> \u001B[0m\u001B[32;49m23.1.2\u001B[0m\r\n",
      "\u001B[1m[\u001B[0m\u001B[34;49mnotice\u001B[0m\u001B[1;39;49m]\u001B[0m\u001B[39;49m To update, run: \u001B[0m\u001B[32;49mpip install --upgrade pip\u001B[0m\r\n",
      "Requirement already satisfied: tenacity in ./venv/lib/python3.9/site-packages (8.2.2)\r\n",
      "\r\n",
      "\u001B[1m[\u001B[0m\u001B[34;49mnotice\u001B[0m\u001B[1;39;49m]\u001B[0m\u001B[39;49m A new release of pip available: \u001B[0m\u001B[31;49m22.3.1\u001B[0m\u001B[39;49m -> \u001B[0m\u001B[32;49m23.1.2\u001B[0m\r\n",
      "\u001B[1m[\u001B[0m\u001B[34;49mnotice\u001B[0m\u001B[1;39;49m]\u001B[0m\u001B[39;49m To update, run: \u001B[0m\u001B[32;49mpip install --upgrade pip\u001B[0m\r\n"
     ]
    }
   ],
   "source": [
    "!pip install pandas\n",
    "!pip install tiktoken\n",
    "!pip install openai\n",
    "!pip install plotly\n",
    "!pip install scipy\n",
    "!pip install scikit-learn\n",
    "!pip install tenacity"
   ]
  },
  {
   "cell_type": "markdown",
   "source": [
    "## Step 3 - Libraries import\n",
    "Imported libraries will be used across the whole notebook"
   ],
   "metadata": {
    "collapsed": false
   }
  },
  {
   "cell_type": "code",
   "execution_count": 17,
   "outputs": [],
   "source": [
    "import pandas as pd\n",
    "import tiktoken\n",
    "import openai\n",
    "from tenacity import retry, wait_random_exponential, stop_after_attempt"
   ],
   "metadata": {
    "collapsed": false,
    "ExecuteTime": {
     "start_time": "2023-05-22T13:35:23.255025Z",
     "end_time": "2023-05-22T13:35:23.262644Z"
    }
   }
  },
  {
   "cell_type": "markdown",
   "source": [
    "## Step 4 - Configuration\n",
    "The parameters below will be used across the whole notebook"
   ],
   "metadata": {
    "collapsed": false
   }
  },
  {
   "cell_type": "code",
   "execution_count": 8,
   "outputs": [],
   "source": [
    "\"\"\"\n",
    "The model to be used for creating embeddings\n",
    "\"\"\"\n",
    "embedding_model = \"text-embedding-ada-002\"\n",
    "\n",
    "\"\"\"\n",
    "The characters encoding for text-embedding-ada-002\n",
    "\"\"\"\n",
    "embedding_encoding = \"cl100k_base\"\n",
    "\n",
    "\"\"\"\n",
    "The maximal tokens number that a text chunk passed to the embeddings model can have.\n",
    "Actual maximum for text-embedding-ada-002 is 8191\n",
    "\"\"\"\n",
    "max_tokens = 8000"
   ],
   "metadata": {
    "collapsed": false
   }
  },
  {
   "cell_type": "markdown",
   "source": [
    "## Step 5.1 - Create a pre-filtered dataset\n",
    "The original dataset is taken from Kaggle and contains about 300MB of Amazon food reviews. This step will preprocess the original dataset with the following amplifications:\n",
    "- Take only a subset of columns - \"Time\", \"ProductId\", \"UserId\", \"Score\", \"Summary\", \"Text\";\n",
    "- Create a new column called \"combined\" that will include original **\"Summary\"** and \"Text\" columns for the purpose of embeddings generation;\n",
    "\n",
    "### Prerequisites\n",
    "- Original dataset must be downloaded and unzipped. After, the dataset must be placed under the `docs` folder and be named as `Reviews.csv`. The `dosc` folder must be at the same file level as this notebook.\n",
    "```\n",
    "- project/\n",
    "    - data_preparation.ipynb\n",
    "    - docs/\n",
    "        - Reviews.csv\n",
    "```\n",
    "\n",
    "### IMPORTANT!\n",
    "The `docs/Reviews.csv` is ignored for Git. If you somehow commit this file Github will not allow you to push due to the maximal filesize limit!\n",
    "\n",
    "### Resources:\n",
    "- [Amazon Fine Food Reviews dataset](https://www.kaggle.com/datasets/snap/amazon-fine-food-reviews);"
   ],
   "metadata": {
    "collapsed": false
   }
  },
  {
   "cell_type": "code",
   "execution_count": 10,
   "outputs": [
    {
     "data": {
      "text/plain": "         Time   ProductId          UserId  Score                Summary   \n0  1303862400  B001E4KFG0  A3SGXH7AUHU8GW      5  Good Quality Dog Food  \\\n1  1346976000  B00813GRG4  A1D87F6ZCVE5NK      1      Not as Advertised   \n2  1219017600  B000LQOCH0   ABXLMWJIXXAIN      4  \"Delight\" says it all   \n3  1307923200  B000UA0QIQ  A395BORC6FGVXV      2         Cough Medicine   \n4  1350777600  B006K2ZZ7K  A1UQRSCLF8GW1T      5            Great taffy   \n\n                                                Text   \n0  I have bought several of the Vitality canned d...  \\\n1  Product arrived labeled as Jumbo Salted Peanut...   \n2  This is a confection that has been around a fe...   \n3  If you are looking for the secret ingredient i...   \n4  Great taffy at a great price.  There was a wid...   \n\n                                            combined  \n0  Title: Good Quality Dog Food; Content: I have ...  \n1  Title: Not as Advertised; Content: Product arr...  \n2  Title: \"Delight\" says it all; Content: This is...  \n3  Title: Cough Medicine; Content: If you are loo...  \n4  Title: Great taffy; Content: Great taffy at a ...  ",
      "text/html": "<div>\n<style scoped>\n    .dataframe tbody tr th:only-of-type {\n        vertical-align: middle;\n    }\n\n    .dataframe tbody tr th {\n        vertical-align: top;\n    }\n\n    .dataframe thead th {\n        text-align: right;\n    }\n</style>\n<table border=\"1\" class=\"dataframe\">\n  <thead>\n    <tr style=\"text-align: right;\">\n      <th></th>\n      <th>Time</th>\n      <th>ProductId</th>\n      <th>UserId</th>\n      <th>Score</th>\n      <th>Summary</th>\n      <th>Text</th>\n      <th>combined</th>\n    </tr>\n  </thead>\n  <tbody>\n    <tr>\n      <th>0</th>\n      <td>1303862400</td>\n      <td>B001E4KFG0</td>\n      <td>A3SGXH7AUHU8GW</td>\n      <td>5</td>\n      <td>Good Quality Dog Food</td>\n      <td>I have bought several of the Vitality canned d...</td>\n      <td>Title: Good Quality Dog Food; Content: I have ...</td>\n    </tr>\n    <tr>\n      <th>1</th>\n      <td>1346976000</td>\n      <td>B00813GRG4</td>\n      <td>A1D87F6ZCVE5NK</td>\n      <td>1</td>\n      <td>Not as Advertised</td>\n      <td>Product arrived labeled as Jumbo Salted Peanut...</td>\n      <td>Title: Not as Advertised; Content: Product arr...</td>\n    </tr>\n    <tr>\n      <th>2</th>\n      <td>1219017600</td>\n      <td>B000LQOCH0</td>\n      <td>ABXLMWJIXXAIN</td>\n      <td>4</td>\n      <td>\"Delight\" says it all</td>\n      <td>This is a confection that has been around a fe...</td>\n      <td>Title: \"Delight\" says it all; Content: This is...</td>\n    </tr>\n    <tr>\n      <th>3</th>\n      <td>1307923200</td>\n      <td>B000UA0QIQ</td>\n      <td>A395BORC6FGVXV</td>\n      <td>2</td>\n      <td>Cough Medicine</td>\n      <td>If you are looking for the secret ingredient i...</td>\n      <td>Title: Cough Medicine; Content: If you are loo...</td>\n    </tr>\n    <tr>\n      <th>4</th>\n      <td>1350777600</td>\n      <td>B006K2ZZ7K</td>\n      <td>A1UQRSCLF8GW1T</td>\n      <td>5</td>\n      <td>Great taffy</td>\n      <td>Great taffy at a great price.  There was a wid...</td>\n      <td>Title: Great taffy; Content: Great taffy at a ...</td>\n    </tr>\n  </tbody>\n</table>\n</div>"
     },
     "execution_count": 10,
     "metadata": {},
     "output_type": "execute_result"
    }
   ],
   "source": [
    "df = pd.read_csv(\"docs/Reviews.csv\")\n",
    "df = df[[\"Time\", \"ProductId\", \"UserId\", \"Score\", \"Summary\", \"Text\"]]\n",
    "df = df.dropna()\n",
    "\n",
    "df[\"combined\"] = (\n",
    "    \"Title: \" + df.Summary.str.strip() + \"; Content: \" + df.Text.str.strip()\n",
    ")\n",
    "\n",
    "df.head(5)"
   ],
   "metadata": {
    "collapsed": false,
    "ExecuteTime": {
     "start_time": "2023-05-22T13:02:44.610576Z",
     "end_time": "2023-05-22T13:02:47.317516Z"
    }
   }
  },
  {
   "cell_type": "markdown",
   "source": [
    "## Step 5.2 - Filter out not valid records\n",
    "Due to the embedding model limitations the data must be \"cleaned\" before creating embeddings.\n",
    "After this step the dataset will be turned into the following:\n",
    "- Sorted by the time the review was left;\n",
    "- A new column is created that shows the number of characters in the \"combined\" column (see the previous step);\n",
    "- The dataset is filtered by the number of tokens to remove records that exceed the limit;\n",
    "- Last 50 records are taken;\n",
    "\n",
    "The number of records in the filtered dataset and the tokens limit can be changed per requirements.\n",
    "\n",
    "### IMPORTANT!\n",
    "To count the number of token in a text the \"tiktoken\" module used as the recommended one by OpenAI."
   ],
   "metadata": {
    "collapsed": false
   }
  },
  {
   "cell_type": "code",
   "execution_count": 11,
   "outputs": [
    {
     "name": "stdout",
     "output_type": "stream",
     "text": [
      "Dataset length: 50\n"
     ]
    },
    {
     "data": {
      "text/plain": "         ProductId          UserId  Score                          Summary   \n346130  B004TJF3BE  A2TZKSY1ZWPOU9      5               Great Hot Cider!!!  \\\n135890  B001ACMCLM  A2PCNXBSKCABG5      4  GOOD GLUTEN FREE BREAD STCK MIX   \n182237  B004LM9KHW  A1AOOCCQ27K9IT      3     French Vanilla Wolfgang Puck   \n354602  B000LKU3A6  A2YRK0YLBN5CC2      3      Good flavor, but a wet mess   \n320387  B008JA73RG   AFJFXN42RZ3G2      4      Neither too sweet nor fizzy   \n\n                                                     Text   \n346130  It is hard to find much of anything sugarfree ...  \\\n135890  Makes very good break sticks.. Also can be use...   \n182237  Product is easy to use.... Just cut or tear pa...   \n354602  I got the teriyaki flavor and, while the flavo...   \n320387  V8 V-Fusion may appear to be the typical energ...   \n\n                                                 combined  n_tokens  \n346130  Title: Great Hot Cider!!!; Content: It is hard...        46  \n135890  Title: GOOD GLUTEN FREE BREAD STCK MIX; Conten...        52  \n182237  Title: French Vanilla Wolfgang Puck; Content: ...       123  \n354602  Title: Good flavor, but a wet mess; Content: I...       267  \n320387  Title: Neither too sweet nor fizzy; Content: V...       230  ",
      "text/html": "<div>\n<style scoped>\n    .dataframe tbody tr th:only-of-type {\n        vertical-align: middle;\n    }\n\n    .dataframe tbody tr th {\n        vertical-align: top;\n    }\n\n    .dataframe thead th {\n        text-align: right;\n    }\n</style>\n<table border=\"1\" class=\"dataframe\">\n  <thead>\n    <tr style=\"text-align: right;\">\n      <th></th>\n      <th>ProductId</th>\n      <th>UserId</th>\n      <th>Score</th>\n      <th>Summary</th>\n      <th>Text</th>\n      <th>combined</th>\n      <th>n_tokens</th>\n    </tr>\n  </thead>\n  <tbody>\n    <tr>\n      <th>346130</th>\n      <td>B004TJF3BE</td>\n      <td>A2TZKSY1ZWPOU9</td>\n      <td>5</td>\n      <td>Great Hot Cider!!!</td>\n      <td>It is hard to find much of anything sugarfree ...</td>\n      <td>Title: Great Hot Cider!!!; Content: It is hard...</td>\n      <td>46</td>\n    </tr>\n    <tr>\n      <th>135890</th>\n      <td>B001ACMCLM</td>\n      <td>A2PCNXBSKCABG5</td>\n      <td>4</td>\n      <td>GOOD GLUTEN FREE BREAD STCK MIX</td>\n      <td>Makes very good break sticks.. Also can be use...</td>\n      <td>Title: GOOD GLUTEN FREE BREAD STCK MIX; Conten...</td>\n      <td>52</td>\n    </tr>\n    <tr>\n      <th>182237</th>\n      <td>B004LM9KHW</td>\n      <td>A1AOOCCQ27K9IT</td>\n      <td>3</td>\n      <td>French Vanilla Wolfgang Puck</td>\n      <td>Product is easy to use.... Just cut or tear pa...</td>\n      <td>Title: French Vanilla Wolfgang Puck; Content: ...</td>\n      <td>123</td>\n    </tr>\n    <tr>\n      <th>354602</th>\n      <td>B000LKU3A6</td>\n      <td>A2YRK0YLBN5CC2</td>\n      <td>3</td>\n      <td>Good flavor, but a wet mess</td>\n      <td>I got the teriyaki flavor and, while the flavo...</td>\n      <td>Title: Good flavor, but a wet mess; Content: I...</td>\n      <td>267</td>\n    </tr>\n    <tr>\n      <th>320387</th>\n      <td>B008JA73RG</td>\n      <td>AFJFXN42RZ3G2</td>\n      <td>4</td>\n      <td>Neither too sweet nor fizzy</td>\n      <td>V8 V-Fusion may appear to be the typical energ...</td>\n      <td>Title: Neither too sweet nor fizzy; Content: V...</td>\n      <td>230</td>\n    </tr>\n  </tbody>\n</table>\n</div>"
     },
     "execution_count": 11,
     "metadata": {},
     "output_type": "execute_result"
    }
   ],
   "source": [
    "df = df.sort_values(\"Time\")\n",
    "df.drop(\"Time\", axis=1, inplace=True)\n",
    "\n",
    "encoding = tiktoken.get_encoding(embedding_encoding)\n",
    "\n",
    "df[\"n_tokens\"] = df.combined.apply(lambda x: len(encoding.encode(x)))\n",
    "df = df[df.n_tokens < max_tokens].tail(50)\n",
    "\n",
    "print(f\"Dataset length: {len(df)}\")\n",
    "\n",
    "df.head(5)"
   ],
   "metadata": {
    "collapsed": false,
    "ExecuteTime": {
     "start_time": "2023-05-22T13:02:55.941952Z",
     "end_time": "2023-05-22T13:03:28.361947Z"
    }
   }
  },
  {
   "cell_type": "markdown",
   "source": [
    "## Step 6 - Generate embeddings\n",
    "Text embeddings are generated for the \"combined\" column. After generation, the embeddings are stored under \"embeddings\" column.\n",
    "For embeddings generation OpenAI API is used.\n",
    "\n",
    "As the embeddings generation is done the resulting dataset is saved to a CSV file under the `docs` directory. Current implementation uses `docs/50_reviews_with_embeddings.csv`.\n",
    "\n",
    "### Resources\n",
    "- [The simplest example of embeddings creation](https://github.com/openai/openai-cookbook/blob/main/examples/Get_embeddings.ipynb);\n",
    "- [Original document about dataset preparation and embeddings generation](https://github.com/openai/openai-cookbook/blob/28ab8b5c44851fe99cb90a962d41095cf9525940/examples/Obtain_dataset.ipynb);"
   ],
   "metadata": {
    "collapsed": false
   }
  },
  {
   "cell_type": "code",
   "execution_count": 14,
   "outputs": [
    {
     "name": "stdout",
     "output_type": "stream",
     "text": [
      "\n",
      "    Input: Title: Great Hot Cider!!!; Content: It is hard to find much of anything sugarfree that really tastes good but this apple cider is the best.  I also love the regular hot apple cider in sugarfree form.\n",
      "    OpenAI API tokens usage:\n",
      "    - Prompt tokens: 46\n",
      "    - Total tokens: 46\n",
      "    \n",
      "\n",
      "    Input: Title: GOOD GLUTEN FREE BREAD STCK MIX; Content: Makes very good break sticks.. Also can be used for a pizza crust.<br /><br />My wife is a celiac so we both enjoy this either as bread sticks or pizza crust.\n",
      "    OpenAI API tokens usage:\n",
      "    - Prompt tokens: 52\n",
      "    - Total tokens: 52\n",
      "    \n",
      "\n",
      "    Input: Title: French Vanilla Wolfgang Puck; Content: Product is easy to use.... Just cut or tear pack open and place into the coffee pot.  But I definitely did not think that the flavor was particularly French Vanilla, even with French Vanilla creamer.  It felt \"heavy\" on my tongue and had a \"dark\" coffee flavor which I believe overcame the French Vanilla flavor.  I was very disappointed that I had paid so much for so little flavor. Additionally, when I tried to return the products, the site informed me tht they ewere not returnable (Even the unopened packages).\n",
      "    OpenAI API tokens usage:\n",
      "    - Prompt tokens: 123\n",
      "    - Total tokens: 123\n",
      "    \n",
      "\n",
      "    Input: Title: Good flavor, but a wet mess; Content: I got the teriyaki flavor and, while the flavor is good and the texture is also good once you get it into your mouth, it can be a mess getting it there.  As other reviewers have noted, this is not like your typical dry jerky.  It seems more like something that would be created by the company that makes SlimJims or something - it's moist and chewy.  The individual packets don't tear easily, either, despite being notched at the end.  You know how sometimes plastic can tear very cleanly, but sometimes it turns into a ragged edge and becomes a struggle?  That's what happens with these 8 times out of 10.  So if you're out and about (not near a sink) and you try to open it and the tear doesn't work perfectly, you potentially have liquid dripping out onto you, certainly on your fingers as you're trying to get the jerky out of the package and into your mouth.  And the liquid dries sticky.<br /><br />Anyway, as I said, the flavor is good and I've now eaten most of mine, but I have taken to opening the package with scissors and eating them only at home so I can wash my hands afterward.\n",
      "    OpenAI API tokens usage:\n",
      "    - Prompt tokens: 267\n",
      "    - Total tokens: 267\n",
      "    \n",
      "\n",
      "    Input: Title: Neither too sweet nor fizzy; Content: V8 V-Fusion may appear to be the typical energy drink that is available today, but the difference between V8 and drinks such as Red Bull, this drink contains vegetable and fruit and 50 calories.  This may be a nice alternative to carbonated sodas or sugary fruit juices because it contains nutritional ingredients that may provide a bit of energy for the day.  The drink contains fruity peach mango flavor, green tea, and vitamin B, but also a concentration of potatoes, yellow tomatoes, and carrots.<br /><br />With the natural energy that V8 V-Fusion provides, one may want to switch from the regular cup of coffee or fizzy pop that usually contains the energy for the day.  The taste is satisfying, not too sweet, fruity, acidic, or watery.  And after trying the 8 fl. Oz. Can, one may not be enough, however, the contents warn that it may not be recommended for children, women nursing or pregnant, or individuals watching their caffeine in take.  But one recommendation, chill the drink before serving.\n",
      "    OpenAI API tokens usage:\n",
      "    - Prompt tokens: 230\n",
      "    - Total tokens: 230\n",
      "    \n",
      "\n",
      "    Input: Title: Crunchy strong and ok taste; Content: I thought the pocket coffee was good, not sure I'll order them again though.  It definitely has a coffee flavor and is a strong flavor, has a little bit of a crunch to it, but it's also has a bitter after taste which might be reason it's not what I expected.\n",
      "    OpenAI API tokens usage:\n",
      "    - Prompt tokens: 71\n",
      "    - Total tokens: 71\n",
      "    \n",
      "\n",
      "    Input: Title: Came as expected; Content: It was tasty and fresh. The other one I bought was old and tasted moldy. But this one was good.\n",
      "    OpenAI API tokens usage:\n",
      "    - Prompt tokens: 32\n",
      "    - Total tokens: 32\n",
      "    \n",
      "\n",
      "    Input: Title: Good Training Treat; Content: My dog will come in from outside when I am training her and look at the cupboard waiting for her treat. When I use the clicker training method she comes because she knows she has something special.\n",
      "    OpenAI API tokens usage:\n",
      "    - Prompt tokens: 48\n",
      "    - Total tokens: 48\n",
      "    \n",
      "\n",
      "    Input: Title: Best electrolyte replacement drink; Content: I'm a disabled Vet with 80% of my kidneys gone. I'm on heavy water pills that deplete my essensil fluids. Cramping is my worst result. I started drinking Vitalyte, a glass four times a day and the cramps are gone! I sleep all night without having to get up and walk off leg and foot cramps. This is the greatest stuff I have ever tried. Makes Gatorade and the other 'kid' stuff a waste of my time and money.<br /><br />  When a physcial therapist told me about 'Gookinaid' I thought he was pulling my leg. But I bought it and tried it and I'm sold. I buy anywhere from 4 to 6 tubs a month. I fill water bottles and carry them in my car for trips. My wife even drinks it and has felt the great affects. If you have cramping or feel a bit run down, give this a try it does wonders. Our favorite flavors are Orange and Grape. Do yourself a favor and give it a try.\n",
      "    OpenAI API tokens usage:\n",
      "    - Prompt tokens: 228\n",
      "    - Total tokens: 228\n",
      "    \n",
      "\n",
      "    Input: Title: Cute!; Content: Bought these to decorate cupcakes for a kid's Halloween party. They are very cute, look like the picture, as advertised!\n",
      "    OpenAI API tokens usage:\n",
      "    - Prompt tokens: 32\n",
      "    - Total tokens: 32\n",
      "    \n",
      "\n",
      "    Input: Title: Good Training Treat; Content: My dog will come in from outside when I am training her and look at the cupboard waiting for her treat. When I use the clicker training method she comes because she knows she has something special.\n",
      "    OpenAI API tokens usage:\n",
      "    - Prompt tokens: 48\n",
      "    - Total tokens: 48\n",
      "    \n",
      "\n",
      "    Input: Title: TERRIFIC multigrain for baking; Content: Although I first purchased this cereal to use as a hot cereal, I do not care for the mushy texture of the cereal.  The taste, however, is TERRIFIC.  The cannister included a recipe for muffins made with the mix.  I tried them and they were TERRRIFIC.  I then went on to make a batch of oatmeal raisin cookies using the multigrain cereal instead of oats. They were TERRIFIC.  Moving right along through my recipe box I added some of the multigrain cereal to a pumpkin bread recipe.  Can you guess?  It was TERRIFIC.  Lasly, I may not enjoy eating this cereal solo, but I find using half steel cut oats and half multigrain cereal makes a TERRIFIC porridge.<br />In looking at others reviews I see that most people love this as a cereal.  Texture is a personal preference and I think people who enjoy creamier cereals will enjoy this as well.\n",
      "    OpenAI API tokens usage:\n",
      "    - Prompt tokens: 218\n",
      "    - Total tokens: 218\n",
      "    \n",
      "\n",
      "    Input: Title: Morning Coffee; Content: Great coffee at a good price. I'm a subscription buyer and I buy this month after month. What more can I say?\n",
      "    OpenAI API tokens usage:\n",
      "    - Prompt tokens: 33\n",
      "    - Total tokens: 33\n",
      "    \n",
      "\n",
      "    Input: Title: Excellent; Content: The Premium Bourbon Madagascar Vanilla Vannila Beans were exactly as described in the ad.  They arrived promptly and I have made my first batch of homemade French Vanilla Creamer with them.  They are wonderful.\n",
      "    OpenAI API tokens usage:\n",
      "    - Prompt tokens: 48\n",
      "    - Total tokens: 48\n",
      "    \n",
      "\n",
      "    Input: Title: New Recipe is Awful; Content: These used to be my favorite animal crackers but Austin has recently changed their recipe to a \"new and improved\" version and as a result, what was once a tasty snack now tastes like cardboard.  The old version had a hint of lemon and the new version is completely tasteless and leaves a horrible after-taste in your mouth.  Nice going Austin.  Won't purchase again.  Austin needs to take a lesson from previous companies that tried to change what was already good and go back to the original.\n",
      "    OpenAI API tokens usage:\n",
      "    - Prompt tokens: 113\n",
      "    - Total tokens: 113\n",
      "    \n",
      "\n",
      "    Input: Title: great healthy and yummy i love love love; Content: these crackers are delicious . i absolutely love them. my dr is a runner ,very healthy man. i took some in and gave him a box and he loved them. he also told me they were very healty. im a diabetic and they are low in carbs and very healthy-just a yummy treat\n",
      "    OpenAI API tokens usage:\n",
      "    - Prompt tokens: 74\n",
      "    - Total tokens: 74\n",
      "    \n",
      "\n",
      "    Input: Title: Its LIGHT but very nice sweetener; Content: This Nectresse Sweetener is rather light in taste --but is very nice over other light foods such as fruits , berries , melons -----anywhere that lightness yet sweetness is desired.<br /><br />I also enjoyed it in iced teas .....especially my fruited teas like strawberry or orange.....<br /><br />I also used it hot teas as welll---but since it was summer more cold drinks went to table than hot.But it would be great on and in either.<br /><br />I did not try it as a cooking sweetener because of its smaller sized containers....so I cannot recommend it for baking or cooking.<br /><br />I can and whole heartedly DO RECOMMEND it for any type of sweetening  where its to be sprinkled over such as cereal , oatmeals ect.......or in drinks of any type...and fruits as I mentioned earlier !!<br /><br />NO bad tasted only nice sweetness !!\n",
      "    OpenAI API tokens usage:\n",
      "    - Prompt tokens: 208\n",
      "    - Total tokens: 208\n",
      "    \n",
      "\n",
      "    Input: Title: This stuff is great!; Content: I'm surprised to see so many negative comments about this product. I don't notice any kind of aftertaste nor do I notice this \"cooling effect\". So far I've only had this by itself (just to taste it) and in coffee. Both experiences were positive. Look, it's not really that much money to try it, so if you want to avoid sugar and don't want something like Slenda (or Stevia -- yuck!) then why not give Nectresse a try?\n",
      "    OpenAI API tokens usage:\n",
      "    - Prompt tokens: 113\n",
      "    - Total tokens: 113\n",
      "    \n",
      "\n",
      "    Input: Title: WOW.....; Content: This chocolate is amazing..I love the taste and smell, this is the only chocolate for me...I found a new love!\n",
      "    OpenAI API tokens usage:\n",
      "    - Prompt tokens: 33\n",
      "    - Total tokens: 33\n",
      "    \n",
      "\n",
      "    Input: Title: Love this faucet; Content: Love this faucet.  My husband had installed the same one in our old house so when our current faucet was leaking I told him not to fix it and we would buy the same one.  It was easy enough for him to install but he did need my assistance a few times to help hold some things in place. Looks great and works great.\n",
      "    OpenAI API tokens usage:\n",
      "    - Prompt tokens: 78\n",
      "    - Total tokens: 78\n",
      "    \n",
      "\n",
      "    Input: Title: Dogs love it.; Content: This is the \"all gone\" treat after dinner.  It's the only treat that the dogs work for; and I did run the chance of losing a hand.  They know a new command now:  \"be gentle\" when taking liver treats.\n",
      "    OpenAI API tokens usage:\n",
      "    - Prompt tokens: 60\n",
      "    - Total tokens: 60\n",
      "    \n",
      "\n",
      "    Input: Title: Not bad.; Content: These are small and very salty. The taste is good, but very strong, so it's a good thing the package contains a small amount. It only takes a few little crisps to cure my salty/crunchy craving. I can snack on one package for an entire day. Of course these would not be a good snack if you're very hungry, because there isn't enough there to fill you up. For less than $1 per pack it's an okay deal.\n",
      "    OpenAI API tokens usage:\n",
      "    - Prompt tokens: 104\n",
      "    - Total tokens: 104\n",
      "    \n",
      "\n",
      "    Input: Title: super; Content: I love this coffee!  And such a great price.  Will buy more when I am running out which will be soon.\n",
      "    OpenAI API tokens usage:\n",
      "    - Prompt tokens: 32\n",
      "    - Total tokens: 32\n",
      "    \n",
      "\n",
      "    Input: Title: I did not receive my order; Content: I placed my order through Amazon and after about 10 days inquired about my order because it had not shipped.  I received an email back from Starbucks that my order had been canceled. No explanation at all, just that it had been canceled. I checked back on Amazon and see that this item is still available but they had raised the price.<br /><br />So instead of honoring the price they just blew me off like the sale never happened.  Shame on Amazon for allowing a seller to do this.<br /><br />Bottom line, Amazon has gone down a few points in my eyes.  Greedy Starbucks can keep their coffee.\n",
      "    OpenAI API tokens usage:\n",
      "    - Prompt tokens: 141\n",
      "    - Total tokens: 141\n",
      "    \n",
      "\n",
      "    Input: Title: Love It!; Content: If you've never had a BCalm before, you've gotta try it.  It's really the perfect drink for relaxation.  Good for a stressful day in the office, a day at the beach, or pretty much anywhere you are.  As a commercial director, I'm on set all the time.  And while coffee is great early in the morning, there's really nothing better than a BCalm (or two) in the afternoon.  Keeps me going, while putting me at ease.  Definitely give it a shot!\n",
      "    OpenAI API tokens usage:\n",
      "    - Prompt tokens: 117\n",
      "    - Total tokens: 117\n",
      "    \n",
      "\n",
      "    Input: Title: Buyer beware; Content: Nespresso makes GREAT coffee and GREAT machines. I switched over to a Nespresso machine 7 years ago and have never looked back. I save a small fortune every year by making my lattes at home.<br /><br />That being said, the Nespresso capsule offers posted here are from a third party who is putting a large additional margin on their price.<br /><br />You can order the same products online from Nespresso for approx $0.55 each (half the price here).\n",
      "    OpenAI API tokens usage:\n",
      "    - Prompt tokens: 108\n",
      "    - Total tokens: 108\n",
      "    \n",
      "\n",
      "    Input: Title: The BEST fig spread on the market; Content: This is my go to spread when I serve a cheese platter.  This goes well with soft cheeses like goat or brie.  Spread it on a cracker or a slice of a baguette.  Simply delicious.  It's worth every penny.  The texture is perfect and it's not too sweet. I highly recommend this product.\n",
      "    OpenAI API tokens usage:\n",
      "    - Prompt tokens: 84\n",
      "    - Total tokens: 84\n",
      "    \n",
      "\n",
      "    Input: Title: You won't believe what you'll catch!; Content: I have been using this product for many years.  It is a great non-poisonous method of controlling the insect population in and around your house.<br /><br />I could not believe all that I caught.  Spiders, roaches, earwigs, a poor lizard, more spiders, more bugs...  Just put them in corners along the baseboard and check them periodically.  Mine filled up in no time with nasty critters.<br /><br />You will not be disappointed with this item if you are looking to catch bugs.\n",
      "    OpenAI API tokens usage:\n",
      "    - Prompt tokens: 126\n",
      "    - Total tokens: 126\n",
      "    \n",
      "\n",
      "    Input: Title: Great Treat; Content: My cats love these. They are very hard to find anywhere but here. They used to be available in the pet stores but no longer. Must refrigerate after opening. They are a little pricy but a healthy treat for your cat.\n",
      "    OpenAI API tokens usage:\n",
      "    - Prompt tokens: 55\n",
      "    - Total tokens: 55\n",
      "    \n",
      "\n",
      "    Input: Title: Hoping it's all it promises to be!; Content: The tea leaves arrived in perfect condition with clear instructions for use.  I've made and drank two batches of the tea ( each makes four 8-oz cups) and I assume all the health-giving properties are doing their thing!  The tea itself is bland and pretty tasteless.  I drink it icy cold and it's like drinking water - no better, no worse.  People can add sweetener and drink it hot or warm also, but I just drink it in place of one of my usual water beverages because that is what I prefer.  It's a health drink and I can't imagine anyone disliking it, and that's the main thing.  You don't have to hold your nose and choke it down.  It's fine.\n",
      "    OpenAI API tokens usage:\n",
      "    - Prompt tokens: 171\n",
      "    - Total tokens: 171\n",
      "    \n",
      "\n",
      "    Input: Title: More Like Pepsi; Content: There is a lot of cola syrups trying to be Coke but this one is shooting for Pepsi. It comes close to Pepsi but of course not a bull eye just like cola syrups can't be Coke, both Coke and Pepsi own the recipes for their drinks. Now that said this is  a very good tasting syrup and not a hard or sweet taste like other cola syrups but more mild flavor. My sister is a big Pepsi drinker and she likes this lot more that other cola syrups, she doesn't like Coke. I think we will be sticking with, it seems this is the only syrup trying to be like Pepsi. Again got the package in great shape and very fast, just wish the shipping could be lower. So if you're not a Coke drinker and want a syrup more like Pepsi, you found it!\n",
      "    OpenAI API tokens usage:\n",
      "    - Prompt tokens: 180\n",
      "    - Total tokens: 180\n",
      "    \n",
      "\n",
      "    Input: Title: Mung Beans for sprouting; Content: I wanted to feed my chickens, turkeys and goats just a little extra protein to keep them fit and healthy while the goats are pregnant over the winter and the chickens and turkeys are getting ready for breeding season.  Sprouts seemed like a good idea but everytime I tried to sprout regular beans they would go bad before the sprouts were big enough to interest the poultry.  So I saw that the ones I was eating out of can were grown from mung beans.  Never heard of them before but thought I'd give it a try.  The beans took longer to get here than I would have liked (almost two weeks) but that just tells me the time frame I need before I order more.  And the beans!!!!  Oh my goodness, you'll get 100% germination and sprouts that are easily eaten and really quite yummy in just three days.  I need to get a bigger growing apparatus so that I can make more at one time.  The chickens, turkeys, goats and even my pregnant cow LOVE the sprouts.  I've found the extra source of protein I needed.  Thanks so much.\n",
      "    OpenAI API tokens usage:\n",
      "    - Prompt tokens: 243\n",
      "    - Total tokens: 243\n",
      "    \n",
      "\n",
      "    Input: Title: Great flavor - spicy but not too hot; Content: I got some of this from a low sodium foods website. I can't believe how much flavor this has for only 170mg per oz.  I am on a strict low sodium diet and I don't like foods where they have simply left out salt (bland) or they cheat and add potassium chloride, something just as bad as salt to my diet. So I am constantly on the hunt for low sodium foods that are naturally that way. This is a perfect cure for my salty food cravings. I haven't tried the other flavors yet but I plan to.\n",
      "    OpenAI API tokens usage:\n",
      "    - Prompt tokens: 127\n",
      "    - Total tokens: 127\n",
      "    \n",
      "\n",
      "    Input: Title: Delicious .; Content: These plums are sweet and juicy, and the aroma is like perfume.  And it doesn't hurt that they are good for you, too.\n",
      "    OpenAI API tokens usage:\n",
      "    - Prompt tokens: 37\n",
      "    - Total tokens: 37\n",
      "    \n",
      "\n",
      "    Input: Title: More Like Pepsi; Content: There is a lot of cola syrups trying to be Coke but this one is shooting for Pepsi. It comes close to Pepsi but of course not a bull eye just like cola syrups can't be Coke, both Coke and Pepsi own the recipes for their drinks. Now that said this is  a very good tasting syrup and not a hard or sweet taste like other cola syrups but more mild flavor. My sister is a big Pepsi drinker and she likes this lot more that other cola syrups, she doesn't like Coke. I think we will be sticking with, it seems this is the only syrup trying to be like Pepsi. Again got the package in great shape and very fast, just wish the shipping could be lower. So if you're not a Coke drinker and want a syrup more like Pepsi, you found it!\n",
      "    OpenAI API tokens usage:\n",
      "    - Prompt tokens: 180\n",
      "    - Total tokens: 180\n",
      "    \n",
      "\n",
      "    Input: Title: Good Buy; Content: I liked the beans. They were vacuum sealed, plump and moist. Would recommend them for any use. I personally split and stuck them in some vodka to make vanilla extract. Yum!\n",
      "    OpenAI API tokens usage:\n",
      "    - Prompt tokens: 46\n",
      "    - Total tokens: 46\n",
      "    \n",
      "\n",
      "    Input: Title: Great snack!; Content: Love the snack and very affordable!I bought them to get a better price than at the store and saved $1 per bag!\n",
      "    OpenAI API tokens usage:\n",
      "    - Prompt tokens: 33\n",
      "    - Total tokens: 33\n",
      "    \n",
      "\n",
      "    Input: Title: 5 Star Tea at a super price!; Content: This tea is very good and perfect for the price....you can't go wrong with this product. A must buy for the tea lover.\n",
      "    OpenAI API tokens usage:\n",
      "    - Prompt tokens: 42\n",
      "    - Total tokens: 42\n",
      "    \n",
      "\n",
      "    Input: Title: Expensive; Content: This is too expensive and very tough and salty.  I tried a piece of this and did not care too much for it.  Even some traditional beef jerky's are easier to chew than this.\n",
      "    OpenAI API tokens usage:\n",
      "    - Prompt tokens: 48\n",
      "    - Total tokens: 48\n",
      "    \n",
      "\n",
      "    Input: Title: not 40 bars; Content: There was NOT 40 bars in my box. I opened the box and the bars were all over the place like they were tossed in there and not lined up to keep count. I got 36 bars...I counted twice\n",
      "    OpenAI API tokens usage:\n",
      "    - Prompt tokens: 54\n",
      "    - Total tokens: 54\n",
      "    \n",
      "\n",
      "    Input: Title: Awesome!!!; Content: This flavor is the best ever!!!  It tastes better than an orange Julius. Smooth and creamy - no grit at all!!!  Thanks for an awesome product.\n",
      "    OpenAI API tokens usage:\n",
      "    - Prompt tokens: 39\n",
      "    - Total tokens: 39\n",
      "    \n",
      "\n",
      "    Input: Title: Arizona Green Tea with Pomegranate & Acai; Content: I love the convenience of the mail order process as I cannot locate this product in any super market in my area.\n",
      "    OpenAI API tokens usage:\n",
      "    - Prompt tokens: 39\n",
      "    - Total tokens: 39\n",
      "    \n",
      "\n",
      "    Input: Title: Supurb; Content: I was introduced to Lagavulin 16 three days ago. I'm no single malt Scotch authority, but this was straight out delicious; better than anything I've tried, including highly-touted and expensive products served at Robert Burns tastings. Microsoft: put \"Lagavulin\" in your dictionary.\n",
      "    OpenAI API tokens usage:\n",
      "    - Prompt tokens: 69\n",
      "    - Total tokens: 69\n",
      "    \n",
      "\n",
      "    Input: Title: I prefer this, but Postum IS back; Content: I like this blend, use it lightly for a nice nighttime tea with almond milk and honey. But I noticed people bemoaning the loss of Postum, and wanted to let you know that it has returned. The new company got the trademark and says it tastes the same. You can read about it at postum dot com\n",
      "    OpenAI API tokens usage:\n",
      "    - Prompt tokens: 80\n",
      "    - Total tokens: 80\n",
      "    \n",
      "\n",
      "    Input: Title: Perfect for Giving Medications to Our Dogs; Content: Every month, we give our three dogs (two Aussies and a Golden/Flat-Coat Retriever mix) pills for flea/tick/worm repellant.  In addition, one of our Aussies needs daily thyroid pills.  We found Pill Pockets is the very best way to do this.  Opening the mouth wide and trying to put the pill waaay in the back of the mouth before clamping the jaws shut and massaging the throat until the poor dog swallows is a bad thing to do to a beloved pet.  It's bad because Pill Pockets make this chore a happy and delicious time for the dog involved.  The Pockets (in the pet store we use) come in chicken or beef flavors, so we alternate flavors every time we buy a new supply.  Everybody is happy, and the dogs get the required meds.\n",
      "    OpenAI API tokens usage:\n",
      "    - Prompt tokens: 189\n",
      "    - Total tokens: 189\n",
      "    \n",
      "\n",
      "    Input: Title: Delicious!; Content: I have ordered these raisins multiple times.  They are always great and arrive timely. I can't go back to store bought chocolate covered raisins now! Love this product.\n",
      "    OpenAI API tokens usage:\n",
      "    - Prompt tokens: 43\n",
      "    - Total tokens: 43\n",
      "    \n",
      "\n",
      "    Input: Title: Good Training Treat; Content: My dog will come in from outside when I am training her and look at the cupboard waiting for her treat. When I use the clicker training method she comes because she knows she has something special.\n",
      "    OpenAI API tokens usage:\n",
      "    - Prompt tokens: 48\n",
      "    - Total tokens: 48\n",
      "    \n",
      "\n",
      "    Input: Title: Jamica Me Crazy Coffee; Content: Wolfgang Puck's Jamaica Me Crazy is that wonderful blend of island flavors in a coffee. Have loved it from the first time tasting. Great product.\n",
      "    OpenAI API tokens usage:\n",
      "    - Prompt tokens: 40\n",
      "    - Total tokens: 40\n",
      "    \n",
      "\n",
      "    Input: Title: Party Peanuts; Content: Great product for the price. Mix with the Asian rice crackers for an excellent snack.  Big container lasts a long time. Only lightly slighted. Peanuts are whole and large.\n",
      "    OpenAI API tokens usage:\n",
      "    - Prompt tokens: 45\n",
      "    - Total tokens: 45\n",
      "    \n",
      "\n",
      "    Input: Title: I love Maui Coffee!; Content: My first experience with Maui Coffee was bringing it back from Maui as a souvenier. I called Maui Coffee Manufacting to order more, Shipping was a bit expensive. Originally,I would bring it back from Maui for souveniers for my friends and family on the mainland. They loved it so much I called Maui coffee and ordered more. Once I realized Amazon had Maui Coffee I was so excited and now I can order at my leisure and gift it to all my friends and family. My personal favorites are the flavored blends. (: Thanks!\n",
      "    OpenAI API tokens usage:\n",
      "    - Prompt tokens: 118\n",
      "    - Total tokens: 118\n",
      "    \n"
     ]
    }
   ],
   "source": [
    "@retry(wait=wait_random_exponential(min=1, max=20), stop=stop_after_attempt(6))\n",
    "def get_embedding(text, model):\n",
    "    text = text.replace(\"\\n\", \" \")\n",
    "    response = openai.Embedding.create(input=[text], model=model)\n",
    "    usage = response[\"usage\"]\n",
    "    print(f\"\"\"\n",
    "    Input: {text}\n",
    "    OpenAI API tokens usage:\n",
    "    - Prompt tokens: {usage[\"prompt_tokens\"]}\n",
    "    - Total tokens: {usage[\"total_tokens\"]}\n",
    "    \"\"\")\n",
    "    return response[\"data\"][0][\"embedding\"]\n",
    "\n",
    "df[\"embedding\"] = df.combined.apply(lambda x: get_embedding(x, model=embedding_model))\n",
    "df.to_csv(\"./docs/50_reviews_with_embeddings.csv\")"
   ],
   "metadata": {
    "collapsed": false,
    "ExecuteTime": {
     "start_time": "2023-05-22T13:15:34.919066Z",
     "end_time": "2023-05-22T13:15:58.886879Z"
    }
   }
  },
  {
   "cell_type": "markdown",
   "source": [
    "## Step 7 - Final dataset test"
   ],
   "metadata": {
    "collapsed": false
   }
  },
  {
   "cell_type": "code",
   "execution_count": 15,
   "outputs": [
    {
     "data": {
      "text/plain": "    Unnamed: 0   ProductId          UserId  Score   \n0       346130  B004TJF3BE  A2TZKSY1ZWPOU9      5  \\\n1       135890  B001ACMCLM  A2PCNXBSKCABG5      4   \n2       182237  B004LM9KHW  A1AOOCCQ27K9IT      3   \n3       354602  B000LKU3A6  A2YRK0YLBN5CC2      3   \n4       320387  B008JA73RG   AFJFXN42RZ3G2      4   \n5       486552  B000MUT928   AMV75AVRSNM0L      3   \n6       355351  B0007PNKRS  A1TED4G0PWZPQV      5   \n7       402155  B0006349WQ  A21BT40VZCCYT4      5   \n8       131483  B001ANXL84  A3NZ74QTATJ45W      5   \n9       519037  B008TZJUOA  A1LHOKYENR7HP2      5   \n10      402200  B0006349WG  A21BT40VZCCYT4      5   \n11      519110  B000LKYRXK  A2WVF9ZQ068DN0      5   \n12       15841  B007TJGZ5E  A3UOYYQS5Z47MS      5   \n13      132755  B000O3KMKG   AAB6ZMWFCK4GO      5   \n14      184270  B000P07YA4   AVN9NG27SPISS      1   \n15      159332  B003KLT05C  A36SZQV6KFCY6B      5   \n16      388651  B007TGO1TY  A1N655X9X7C6QY      4   \n17      388652  B007TGO1TY  A2LEO7WT1VIMKZ      5   \n18       68620  B005IOXBY0  A1ORVAUR5C5N8X      5   \n19       15604  B000255OIG   AUINI96NMGXUI      5   \n20       15603  B000255OIG  A3SSEJ8IEM4YGW      5   \n21       49412  B000IHNCQO  A2DFSA2JXQKVY3      4   \n22      562644  B005C7R8HE  A3MAVAV6Q37XT5      5   \n23      320108  B003Z6W32E  A2GW6JUVTALDPV      1   \n24      476990  B00934SOFM  A37WARPJ0CCFHU      5   \n25      481010  B004ZY34NC   A4IL0CLL27Q33      1   \n26       98293  B0002LY6W0  A1BX08Y0GIT5RU      5   \n27      518538  B0002YW26E   A506HOOCVL8GW      5   \n28       35470  B000WSHV1Q  A1YT628H711FN7      5   \n29      401481  B000LNC3YM  A1AFTFG64H6UYH      5   \n30      500187  B008GQ40UQ  A1YDQ8I5KVNF8P      5   \n31       85816  B000NCXHFA   ATMTE0BSP7W6S      5   \n32       85815  B005XGH78E  A2YGWCOC3LM3KH      5   \n33      551615  B000I6626C   AKTTN6RMV3XMW      5   \n34      500172  B008GQ40UG  A1YDQ8I5KVNF8P      5   \n35      543170  B000O9T4FY  A3MCEVAFHA7I7S      5   \n36      267763  B000FMZO8G  A1EBWGUV88OZ2G      5   \n37       85600  B003ZURM80  A1O6MADFNBRX7H      5   \n38      518007  B00529PFX6  A3H4L7TJKQHW4Q      1   \n39       97814  B0040J7HIU  A2VB92E7TA6EUH      3   \n40      135229  B005YVUHU8  A2W0G89O7E9EFO      5   \n41      443040  B001A43E6M  A32UNJZRBQENQW      5   \n42      290178  B002TAEGHC  A295JS81QH2401      5   \n43      509567  B003SO4EK2  A2MX8A4AODGYP3      4   \n44      134547  B003E728CE  A2I606SLG4SWHF      5   \n45        7177  B004OQLIHK   AKHQMSUORSA91      5   \n46      401971  B0006349W6  A21BT40VZCCYT4      5   \n47      462087  B00611F084   A6D4ND3C3BCYV      5   \n48      267548  B005QKH5HA  A3LR9HCV3D96I3      5   \n49      542496  B001EQ5GEO  A3VYU0VO6DYV6I      5   \n\n                                       Summary   \n0                           Great Hot Cider!!!  \\\n1              GOOD GLUTEN FREE BREAD STCK MIX   \n2                 French Vanilla Wolfgang Puck   \n3                  Good flavor, but a wet mess   \n4                  Neither too sweet nor fizzy   \n5                  Crunchy strong and ok taste   \n6                             Came as expected   \n7                          Good Training Treat   \n8           Best electrolyte replacement drink   \n9                                        Cute!   \n10                         Good Training Treat   \n11              TERRIFIC multigrain for baking   \n12                              Morning Coffee   \n13                                   Excellent   \n14                         New Recipe is Awful   \n15    great healthy and yummy i love love love   \n16           Its LIGHT but very nice sweetener   \n17                        This stuff is great!   \n18                                    WOW.....   \n19                            Love this faucet   \n20                               Dogs love it.   \n21                                    Not bad.   \n22                                       super   \n23                  I did not receive my order   \n24                                    Love It!   \n25                                Buyer beware   \n26           The BEST fig spread on the market   \n27        You won't believe what you'll catch!   \n28                                 Great Treat   \n29          Hoping it's all it promises to be!   \n30                             More Like Pepsi   \n31                    Mung Beans for sprouting   \n32        Great flavor - spicy but not too hot   \n33                                 Delicious .   \n34                             More Like Pepsi   \n35                                    Good Buy   \n36                                Great snack!   \n37                5 Star Tea at a super price!   \n38                                   Expensive   \n39                                 not 40 bars   \n40                                  Awesome!!!   \n41   Arizona Green Tea with Pomegranate & Acai   \n42                                      Supurb   \n43           I prefer this, but Postum IS back   \n44  Perfect for Giving Medications to Our Dogs   \n45                                  Delicious!   \n46                         Good Training Treat   \n47                      Jamica Me Crazy Coffee   \n48                               Party Peanuts   \n49                         I love Maui Coffee!   \n\n                                                 Text   \n0   It is hard to find much of anything sugarfree ...  \\\n1   Makes very good break sticks.. Also can be use...   \n2   Product is easy to use.... Just cut or tear pa...   \n3   I got the teriyaki flavor and, while the flavo...   \n4   V8 V-Fusion may appear to be the typical energ...   \n5   I thought the pocket coffee was good, not sure...   \n6   It was tasty and fresh. The other one I bought...   \n7   My dog will come in from outside when I am tra...   \n8   I'm a disabled Vet with 80% of my kidneys gone...   \n9   Bought these to decorate cupcakes for a kid's ...   \n10  My dog will come in from outside when I am tra...   \n11  Although I first purchased this cereal to use ...   \n12  Great coffee at a good price. I'm a subscripti...   \n13  The Premium Bourbon Madagascar Vanilla Vannila...   \n14  These used to be my favorite animal crackers b...   \n15  these crackers are delicious . i absolutely lo...   \n16  This Nectresse Sweetener is rather light in ta...   \n17  I'm surprised to see so many negative comments...   \n18  This chocolate is amazing..I love the taste an...   \n19  Love this faucet.  My husband had installed th...   \n20  This is the \"all gone\" treat after dinner.  It...   \n21  These are small and very salty. The taste is g...   \n22  I love this coffee!  And such a great price.  ...   \n23  I placed my order through Amazon and after abo...   \n24  If you've never had a BCalm before, you've got...   \n25  Nespresso makes GREAT coffee and GREAT machine...   \n26  This is my go to spread when I serve a cheese ...   \n27  I have been using this product for many years....   \n28  My cats love these. They are very hard to find...   \n29  The tea leaves arrived in perfect condition wi...   \n30  There is a lot of cola syrups trying to be Cok...   \n31  I wanted to feed my chickens, turkeys and goat...   \n32  I got some of this from a low sodium foods web...   \n33  These plums are sweet and juicy, and the aroma...   \n34  There is a lot of cola syrups trying to be Cok...   \n35  I liked the beans. They were vacuum sealed, pl...   \n36  Love the snack and very affordable!I bought th...   \n37  This tea is very good and perfect for the pric...   \n38  This is too expensive and very tough and salty...   \n39  There was NOT 40 bars in my box. I opened the ...   \n40  This flavor is the best ever!!!  It tastes bet...   \n41  I love the convenience of the mail order proce...   \n42  I was introduced to Lagavulin 16 three days ag...   \n43  I like this blend, use it lightly for a nice n...   \n44  Every month, we give our three dogs (two Aussi...   \n45  I have ordered these raisins multiple times.  ...   \n46  My dog will come in from outside when I am tra...   \n47  Wolfgang Puck's Jamaica Me Crazy is that wonde...   \n48  Great product for the price. Mix with the Asia...   \n49  My first experience with Maui Coffee was bring...   \n\n                                             combined  n_tokens   \n0   Title: Great Hot Cider!!!; Content: It is hard...        46  \\\n1   Title: GOOD GLUTEN FREE BREAD STCK MIX; Conten...        52   \n2   Title: French Vanilla Wolfgang Puck; Content: ...       123   \n3   Title: Good flavor, but a wet mess; Content: I...       267   \n4   Title: Neither too sweet nor fizzy; Content: V...       230   \n5   Title: Crunchy strong and ok taste; Content: I...        71   \n6   Title: Came as expected; Content: It was tasty...        32   \n7   Title: Good Training Treat; Content: My dog wi...        48   \n8   Title: Best electrolyte replacement drink; Con...       228   \n9   Title: Cute!; Content: Bought these to decorat...        32   \n10  Title: Good Training Treat; Content: My dog wi...        48   \n11  Title: TERRIFIC multigrain for baking; Content...       218   \n12  Title: Morning Coffee; Content: Great coffee a...        33   \n13  Title: Excellent; Content: The Premium Bourbon...        48   \n14  Title: New Recipe is Awful; Content: These use...       113   \n15  Title: great healthy and yummy i love love lov...        74   \n16  Title: Its LIGHT but very nice sweetener; Cont...       208   \n17  Title: This stuff is great!; Content: I'm surp...       113   \n18  Title: WOW.....; Content: This chocolate is am...        33   \n19  Title: Love this faucet; Content: Love this fa...        78   \n20  Title: Dogs love it.; Content: This is the \"al...        60   \n21  Title: Not bad.; Content: These are small and ...       104   \n22  Title: super; Content: I love this coffee!  An...        32   \n23  Title: I did not receive my order; Content: I ...       141   \n24  Title: Love It!; Content: If you've never had ...       117   \n25  Title: Buyer beware; Content: Nespresso makes ...       108   \n26  Title: The BEST fig spread on the market; Cont...        84   \n27  Title: You won't believe what you'll catch!; C...       126   \n28  Title: Great Treat; Content: My cats love thes...        55   \n29  Title: Hoping it's all it promises to be!; Con...       171   \n30  Title: More Like Pepsi; Content: There is a lo...       180   \n31  Title: Mung Beans for sprouting; Content: I wa...       243   \n32  Title: Great flavor - spicy but not too hot; C...       127   \n33  Title: Delicious .; Content: These plums are s...        37   \n34  Title: More Like Pepsi; Content: There is a lo...       180   \n35  Title: Good Buy; Content: I liked the beans. T...        46   \n36  Title: Great snack!; Content: Love the snack a...        33   \n37  Title: 5 Star Tea at a super price!; Content: ...        42   \n38  Title: Expensive; Content: This is too expensi...        48   \n39  Title: not 40 bars; Content: There was NOT 40 ...        54   \n40  Title: Awesome!!!; Content: This flavor is the...        39   \n41  Title: Arizona Green Tea with Pomegranate & Ac...        39   \n42  Title: Supurb; Content: I was introduced to La...        69   \n43  Title: I prefer this, but Postum IS back; Cont...        80   \n44  Title: Perfect for Giving Medications to Our D...       189   \n45  Title: Delicious!; Content: I have ordered the...        43   \n46  Title: Good Training Treat; Content: My dog wi...        48   \n47  Title: Jamica Me Crazy Coffee; Content: Wolfga...        40   \n48  Title: Party Peanuts; Content: Great product f...        45   \n49  Title: I love Maui Coffee!; Content: My first ...       118   \n\n                                            embedding  \n0   [0.0007746443734504282, -0.0042549604550004005...  \n1   [-0.0011603275779634714, -0.009558608755469322...  \n2   [0.004102123901247978, -0.014700944535434246, ...  \n3   [-0.01738598570227623, 0.001981155714020133, -...  \n4   [-0.0018182089552283287, -0.031320970505476, 0...  \n5   [0.004584897309541702, -0.027496036142110825, ...  \n6   [0.016189226880669594, -0.02362893521785736, 0...  \n7   [-0.02448691613972187, -0.017595387995243073, ...  \n8   [-0.0006335642538033426, 0.013451849110424519,...  \n9   [-0.01844242587685585, 0.0013125381665304303, ...  \n10  [-0.02448691613972187, -0.017595387995243073, ...  \n11  [-0.015425138175487518, -0.0016741305589675903...  \n12  [-0.006538834422826767, -0.02032269723713398, ...  \n13  [-0.017675982788205147, -0.0011322841746732593...  \n14  [-0.00035514074261300266, 0.002455689013004303...  \n15  [-0.01734599471092224, -0.024318793788552284, ...  \n16  [-0.005232261493802071, -0.005228868685662746,...  \n17  [-0.015454702079296112, -0.004007989540696144,...  \n18  [-0.000857466016896069, -0.002801814815029502,...  \n19  [0.007693938445299864, 0.008475815877318382, -...  \n20  [-0.001855661510489881, -0.008466456085443497,...  \n21  [0.007779187988489866, -0.00984749011695385, 0...  \n22  [-0.006597519386559725, -0.015356126241385937,...  \n23  [-0.019484635442495346, -0.03105153515934944, ...  \n24  [-0.004192133899778128, -0.0022455514408648014...  \n25  [-0.008843500167131424, -0.011693444103002548,...  \n26  [-0.011163630522787571, 0.00022125558461993933...  \n27  [0.004439187701791525, 0.021719222888350487, -...  \n28  [0.005343991797417402, -0.01764240302145481, 0...  \n29  [-0.0043185739777982235, -0.008537180721759796...  \n30  [0.005812380462884903, 0.003296450013294816, -...  \n31  [-0.012687304988503456, -0.031641751527786255,...  \n32  [0.005448854994028807, 0.003336269175633788, 0...  \n33  [0.004707081709057093, -0.0007413080893456936,...  \n34  [0.005812380462884903, 0.003296450013294816, -...  \n35  [-0.0181517843157053, -0.007195121143013239, 0...  \n36  [-0.018640168011188507, -0.018692713230848312,...  \n37  [0.00045841452083550394, -0.010969262570142746...  \n38  [0.00021626557281706482, -0.009498722851276398...  \n39  [-0.017987456172704697, -0.009310455061495304,...  \n40  [-0.0030637329909950495, 0.0017919314559549093...  \n41  [0.004296167753636837, -0.012073769234120846, ...  \n42  [-0.014460811391472816, 0.014089000411331654, ...  \n43  [-0.0017564838053658605, -0.010528875514864922...  \n44  [-0.02477782964706421, 0.020300881937146187, 0...  \n45  [-0.008882131427526474, -0.01858680509030819, ...  \n46  [-0.02448691613972187, -0.017595387995243073, ...  \n47  [-0.01685294136404991, -0.0051534585654735565,...  \n48  [-0.010731690563261509, -0.01646377146244049, ...  \n49  [-0.006103473715484142, -0.015055017545819283,...  ",
      "text/html": "<div>\n<style scoped>\n    .dataframe tbody tr th:only-of-type {\n        vertical-align: middle;\n    }\n\n    .dataframe tbody tr th {\n        vertical-align: top;\n    }\n\n    .dataframe thead th {\n        text-align: right;\n    }\n</style>\n<table border=\"1\" class=\"dataframe\">\n  <thead>\n    <tr style=\"text-align: right;\">\n      <th></th>\n      <th>Unnamed: 0</th>\n      <th>ProductId</th>\n      <th>UserId</th>\n      <th>Score</th>\n      <th>Summary</th>\n      <th>Text</th>\n      <th>combined</th>\n      <th>n_tokens</th>\n      <th>embedding</th>\n    </tr>\n  </thead>\n  <tbody>\n    <tr>\n      <th>0</th>\n      <td>346130</td>\n      <td>B004TJF3BE</td>\n      <td>A2TZKSY1ZWPOU9</td>\n      <td>5</td>\n      <td>Great Hot Cider!!!</td>\n      <td>It is hard to find much of anything sugarfree ...</td>\n      <td>Title: Great Hot Cider!!!; Content: It is hard...</td>\n      <td>46</td>\n      <td>[0.0007746443734504282, -0.0042549604550004005...</td>\n    </tr>\n    <tr>\n      <th>1</th>\n      <td>135890</td>\n      <td>B001ACMCLM</td>\n      <td>A2PCNXBSKCABG5</td>\n      <td>4</td>\n      <td>GOOD GLUTEN FREE BREAD STCK MIX</td>\n      <td>Makes very good break sticks.. Also can be use...</td>\n      <td>Title: GOOD GLUTEN FREE BREAD STCK MIX; Conten...</td>\n      <td>52</td>\n      <td>[-0.0011603275779634714, -0.009558608755469322...</td>\n    </tr>\n    <tr>\n      <th>2</th>\n      <td>182237</td>\n      <td>B004LM9KHW</td>\n      <td>A1AOOCCQ27K9IT</td>\n      <td>3</td>\n      <td>French Vanilla Wolfgang Puck</td>\n      <td>Product is easy to use.... Just cut or tear pa...</td>\n      <td>Title: French Vanilla Wolfgang Puck; Content: ...</td>\n      <td>123</td>\n      <td>[0.004102123901247978, -0.014700944535434246, ...</td>\n    </tr>\n    <tr>\n      <th>3</th>\n      <td>354602</td>\n      <td>B000LKU3A6</td>\n      <td>A2YRK0YLBN5CC2</td>\n      <td>3</td>\n      <td>Good flavor, but a wet mess</td>\n      <td>I got the teriyaki flavor and, while the flavo...</td>\n      <td>Title: Good flavor, but a wet mess; Content: I...</td>\n      <td>267</td>\n      <td>[-0.01738598570227623, 0.001981155714020133, -...</td>\n    </tr>\n    <tr>\n      <th>4</th>\n      <td>320387</td>\n      <td>B008JA73RG</td>\n      <td>AFJFXN42RZ3G2</td>\n      <td>4</td>\n      <td>Neither too sweet nor fizzy</td>\n      <td>V8 V-Fusion may appear to be the typical energ...</td>\n      <td>Title: Neither too sweet nor fizzy; Content: V...</td>\n      <td>230</td>\n      <td>[-0.0018182089552283287, -0.031320970505476, 0...</td>\n    </tr>\n    <tr>\n      <th>5</th>\n      <td>486552</td>\n      <td>B000MUT928</td>\n      <td>AMV75AVRSNM0L</td>\n      <td>3</td>\n      <td>Crunchy strong and ok taste</td>\n      <td>I thought the pocket coffee was good, not sure...</td>\n      <td>Title: Crunchy strong and ok taste; Content: I...</td>\n      <td>71</td>\n      <td>[0.004584897309541702, -0.027496036142110825, ...</td>\n    </tr>\n    <tr>\n      <th>6</th>\n      <td>355351</td>\n      <td>B0007PNKRS</td>\n      <td>A1TED4G0PWZPQV</td>\n      <td>5</td>\n      <td>Came as expected</td>\n      <td>It was tasty and fresh. The other one I bought...</td>\n      <td>Title: Came as expected; Content: It was tasty...</td>\n      <td>32</td>\n      <td>[0.016189226880669594, -0.02362893521785736, 0...</td>\n    </tr>\n    <tr>\n      <th>7</th>\n      <td>402155</td>\n      <td>B0006349WQ</td>\n      <td>A21BT40VZCCYT4</td>\n      <td>5</td>\n      <td>Good Training Treat</td>\n      <td>My dog will come in from outside when I am tra...</td>\n      <td>Title: Good Training Treat; Content: My dog wi...</td>\n      <td>48</td>\n      <td>[-0.02448691613972187, -0.017595387995243073, ...</td>\n    </tr>\n    <tr>\n      <th>8</th>\n      <td>131483</td>\n      <td>B001ANXL84</td>\n      <td>A3NZ74QTATJ45W</td>\n      <td>5</td>\n      <td>Best electrolyte replacement drink</td>\n      <td>I'm a disabled Vet with 80% of my kidneys gone...</td>\n      <td>Title: Best electrolyte replacement drink; Con...</td>\n      <td>228</td>\n      <td>[-0.0006335642538033426, 0.013451849110424519,...</td>\n    </tr>\n    <tr>\n      <th>9</th>\n      <td>519037</td>\n      <td>B008TZJUOA</td>\n      <td>A1LHOKYENR7HP2</td>\n      <td>5</td>\n      <td>Cute!</td>\n      <td>Bought these to decorate cupcakes for a kid's ...</td>\n      <td>Title: Cute!; Content: Bought these to decorat...</td>\n      <td>32</td>\n      <td>[-0.01844242587685585, 0.0013125381665304303, ...</td>\n    </tr>\n    <tr>\n      <th>10</th>\n      <td>402200</td>\n      <td>B0006349WG</td>\n      <td>A21BT40VZCCYT4</td>\n      <td>5</td>\n      <td>Good Training Treat</td>\n      <td>My dog will come in from outside when I am tra...</td>\n      <td>Title: Good Training Treat; Content: My dog wi...</td>\n      <td>48</td>\n      <td>[-0.02448691613972187, -0.017595387995243073, ...</td>\n    </tr>\n    <tr>\n      <th>11</th>\n      <td>519110</td>\n      <td>B000LKYRXK</td>\n      <td>A2WVF9ZQ068DN0</td>\n      <td>5</td>\n      <td>TERRIFIC multigrain for baking</td>\n      <td>Although I first purchased this cereal to use ...</td>\n      <td>Title: TERRIFIC multigrain for baking; Content...</td>\n      <td>218</td>\n      <td>[-0.015425138175487518, -0.0016741305589675903...</td>\n    </tr>\n    <tr>\n      <th>12</th>\n      <td>15841</td>\n      <td>B007TJGZ5E</td>\n      <td>A3UOYYQS5Z47MS</td>\n      <td>5</td>\n      <td>Morning Coffee</td>\n      <td>Great coffee at a good price. I'm a subscripti...</td>\n      <td>Title: Morning Coffee; Content: Great coffee a...</td>\n      <td>33</td>\n      <td>[-0.006538834422826767, -0.02032269723713398, ...</td>\n    </tr>\n    <tr>\n      <th>13</th>\n      <td>132755</td>\n      <td>B000O3KMKG</td>\n      <td>AAB6ZMWFCK4GO</td>\n      <td>5</td>\n      <td>Excellent</td>\n      <td>The Premium Bourbon Madagascar Vanilla Vannila...</td>\n      <td>Title: Excellent; Content: The Premium Bourbon...</td>\n      <td>48</td>\n      <td>[-0.017675982788205147, -0.0011322841746732593...</td>\n    </tr>\n    <tr>\n      <th>14</th>\n      <td>184270</td>\n      <td>B000P07YA4</td>\n      <td>AVN9NG27SPISS</td>\n      <td>1</td>\n      <td>New Recipe is Awful</td>\n      <td>These used to be my favorite animal crackers b...</td>\n      <td>Title: New Recipe is Awful; Content: These use...</td>\n      <td>113</td>\n      <td>[-0.00035514074261300266, 0.002455689013004303...</td>\n    </tr>\n    <tr>\n      <th>15</th>\n      <td>159332</td>\n      <td>B003KLT05C</td>\n      <td>A36SZQV6KFCY6B</td>\n      <td>5</td>\n      <td>great healthy and yummy i love love love</td>\n      <td>these crackers are delicious . i absolutely lo...</td>\n      <td>Title: great healthy and yummy i love love lov...</td>\n      <td>74</td>\n      <td>[-0.01734599471092224, -0.024318793788552284, ...</td>\n    </tr>\n    <tr>\n      <th>16</th>\n      <td>388651</td>\n      <td>B007TGO1TY</td>\n      <td>A1N655X9X7C6QY</td>\n      <td>4</td>\n      <td>Its LIGHT but very nice sweetener</td>\n      <td>This Nectresse Sweetener is rather light in ta...</td>\n      <td>Title: Its LIGHT but very nice sweetener; Cont...</td>\n      <td>208</td>\n      <td>[-0.005232261493802071, -0.005228868685662746,...</td>\n    </tr>\n    <tr>\n      <th>17</th>\n      <td>388652</td>\n      <td>B007TGO1TY</td>\n      <td>A2LEO7WT1VIMKZ</td>\n      <td>5</td>\n      <td>This stuff is great!</td>\n      <td>I'm surprised to see so many negative comments...</td>\n      <td>Title: This stuff is great!; Content: I'm surp...</td>\n      <td>113</td>\n      <td>[-0.015454702079296112, -0.004007989540696144,...</td>\n    </tr>\n    <tr>\n      <th>18</th>\n      <td>68620</td>\n      <td>B005IOXBY0</td>\n      <td>A1ORVAUR5C5N8X</td>\n      <td>5</td>\n      <td>WOW.....</td>\n      <td>This chocolate is amazing..I love the taste an...</td>\n      <td>Title: WOW.....; Content: This chocolate is am...</td>\n      <td>33</td>\n      <td>[-0.000857466016896069, -0.002801814815029502,...</td>\n    </tr>\n    <tr>\n      <th>19</th>\n      <td>15604</td>\n      <td>B000255OIG</td>\n      <td>AUINI96NMGXUI</td>\n      <td>5</td>\n      <td>Love this faucet</td>\n      <td>Love this faucet.  My husband had installed th...</td>\n      <td>Title: Love this faucet; Content: Love this fa...</td>\n      <td>78</td>\n      <td>[0.007693938445299864, 0.008475815877318382, -...</td>\n    </tr>\n    <tr>\n      <th>20</th>\n      <td>15603</td>\n      <td>B000255OIG</td>\n      <td>A3SSEJ8IEM4YGW</td>\n      <td>5</td>\n      <td>Dogs love it.</td>\n      <td>This is the \"all gone\" treat after dinner.  It...</td>\n      <td>Title: Dogs love it.; Content: This is the \"al...</td>\n      <td>60</td>\n      <td>[-0.001855661510489881, -0.008466456085443497,...</td>\n    </tr>\n    <tr>\n      <th>21</th>\n      <td>49412</td>\n      <td>B000IHNCQO</td>\n      <td>A2DFSA2JXQKVY3</td>\n      <td>4</td>\n      <td>Not bad.</td>\n      <td>These are small and very salty. The taste is g...</td>\n      <td>Title: Not bad.; Content: These are small and ...</td>\n      <td>104</td>\n      <td>[0.007779187988489866, -0.00984749011695385, 0...</td>\n    </tr>\n    <tr>\n      <th>22</th>\n      <td>562644</td>\n      <td>B005C7R8HE</td>\n      <td>A3MAVAV6Q37XT5</td>\n      <td>5</td>\n      <td>super</td>\n      <td>I love this coffee!  And such a great price.  ...</td>\n      <td>Title: super; Content: I love this coffee!  An...</td>\n      <td>32</td>\n      <td>[-0.006597519386559725, -0.015356126241385937,...</td>\n    </tr>\n    <tr>\n      <th>23</th>\n      <td>320108</td>\n      <td>B003Z6W32E</td>\n      <td>A2GW6JUVTALDPV</td>\n      <td>1</td>\n      <td>I did not receive my order</td>\n      <td>I placed my order through Amazon and after abo...</td>\n      <td>Title: I did not receive my order; Content: I ...</td>\n      <td>141</td>\n      <td>[-0.019484635442495346, -0.03105153515934944, ...</td>\n    </tr>\n    <tr>\n      <th>24</th>\n      <td>476990</td>\n      <td>B00934SOFM</td>\n      <td>A37WARPJ0CCFHU</td>\n      <td>5</td>\n      <td>Love It!</td>\n      <td>If you've never had a BCalm before, you've got...</td>\n      <td>Title: Love It!; Content: If you've never had ...</td>\n      <td>117</td>\n      <td>[-0.004192133899778128, -0.0022455514408648014...</td>\n    </tr>\n    <tr>\n      <th>25</th>\n      <td>481010</td>\n      <td>B004ZY34NC</td>\n      <td>A4IL0CLL27Q33</td>\n      <td>1</td>\n      <td>Buyer beware</td>\n      <td>Nespresso makes GREAT coffee and GREAT machine...</td>\n      <td>Title: Buyer beware; Content: Nespresso makes ...</td>\n      <td>108</td>\n      <td>[-0.008843500167131424, -0.011693444103002548,...</td>\n    </tr>\n    <tr>\n      <th>26</th>\n      <td>98293</td>\n      <td>B0002LY6W0</td>\n      <td>A1BX08Y0GIT5RU</td>\n      <td>5</td>\n      <td>The BEST fig spread on the market</td>\n      <td>This is my go to spread when I serve a cheese ...</td>\n      <td>Title: The BEST fig spread on the market; Cont...</td>\n      <td>84</td>\n      <td>[-0.011163630522787571, 0.00022125558461993933...</td>\n    </tr>\n    <tr>\n      <th>27</th>\n      <td>518538</td>\n      <td>B0002YW26E</td>\n      <td>A506HOOCVL8GW</td>\n      <td>5</td>\n      <td>You won't believe what you'll catch!</td>\n      <td>I have been using this product for many years....</td>\n      <td>Title: You won't believe what you'll catch!; C...</td>\n      <td>126</td>\n      <td>[0.004439187701791525, 0.021719222888350487, -...</td>\n    </tr>\n    <tr>\n      <th>28</th>\n      <td>35470</td>\n      <td>B000WSHV1Q</td>\n      <td>A1YT628H711FN7</td>\n      <td>5</td>\n      <td>Great Treat</td>\n      <td>My cats love these. They are very hard to find...</td>\n      <td>Title: Great Treat; Content: My cats love thes...</td>\n      <td>55</td>\n      <td>[0.005343991797417402, -0.01764240302145481, 0...</td>\n    </tr>\n    <tr>\n      <th>29</th>\n      <td>401481</td>\n      <td>B000LNC3YM</td>\n      <td>A1AFTFG64H6UYH</td>\n      <td>5</td>\n      <td>Hoping it's all it promises to be!</td>\n      <td>The tea leaves arrived in perfect condition wi...</td>\n      <td>Title: Hoping it's all it promises to be!; Con...</td>\n      <td>171</td>\n      <td>[-0.0043185739777982235, -0.008537180721759796...</td>\n    </tr>\n    <tr>\n      <th>30</th>\n      <td>500187</td>\n      <td>B008GQ40UQ</td>\n      <td>A1YDQ8I5KVNF8P</td>\n      <td>5</td>\n      <td>More Like Pepsi</td>\n      <td>There is a lot of cola syrups trying to be Cok...</td>\n      <td>Title: More Like Pepsi; Content: There is a lo...</td>\n      <td>180</td>\n      <td>[0.005812380462884903, 0.003296450013294816, -...</td>\n    </tr>\n    <tr>\n      <th>31</th>\n      <td>85816</td>\n      <td>B000NCXHFA</td>\n      <td>ATMTE0BSP7W6S</td>\n      <td>5</td>\n      <td>Mung Beans for sprouting</td>\n      <td>I wanted to feed my chickens, turkeys and goat...</td>\n      <td>Title: Mung Beans for sprouting; Content: I wa...</td>\n      <td>243</td>\n      <td>[-0.012687304988503456, -0.031641751527786255,...</td>\n    </tr>\n    <tr>\n      <th>32</th>\n      <td>85815</td>\n      <td>B005XGH78E</td>\n      <td>A2YGWCOC3LM3KH</td>\n      <td>5</td>\n      <td>Great flavor - spicy but not too hot</td>\n      <td>I got some of this from a low sodium foods web...</td>\n      <td>Title: Great flavor - spicy but not too hot; C...</td>\n      <td>127</td>\n      <td>[0.005448854994028807, 0.003336269175633788, 0...</td>\n    </tr>\n    <tr>\n      <th>33</th>\n      <td>551615</td>\n      <td>B000I6626C</td>\n      <td>AKTTN6RMV3XMW</td>\n      <td>5</td>\n      <td>Delicious .</td>\n      <td>These plums are sweet and juicy, and the aroma...</td>\n      <td>Title: Delicious .; Content: These plums are s...</td>\n      <td>37</td>\n      <td>[0.004707081709057093, -0.0007413080893456936,...</td>\n    </tr>\n    <tr>\n      <th>34</th>\n      <td>500172</td>\n      <td>B008GQ40UG</td>\n      <td>A1YDQ8I5KVNF8P</td>\n      <td>5</td>\n      <td>More Like Pepsi</td>\n      <td>There is a lot of cola syrups trying to be Cok...</td>\n      <td>Title: More Like Pepsi; Content: There is a lo...</td>\n      <td>180</td>\n      <td>[0.005812380462884903, 0.003296450013294816, -...</td>\n    </tr>\n    <tr>\n      <th>35</th>\n      <td>543170</td>\n      <td>B000O9T4FY</td>\n      <td>A3MCEVAFHA7I7S</td>\n      <td>5</td>\n      <td>Good Buy</td>\n      <td>I liked the beans. They were vacuum sealed, pl...</td>\n      <td>Title: Good Buy; Content: I liked the beans. T...</td>\n      <td>46</td>\n      <td>[-0.0181517843157053, -0.007195121143013239, 0...</td>\n    </tr>\n    <tr>\n      <th>36</th>\n      <td>267763</td>\n      <td>B000FMZO8G</td>\n      <td>A1EBWGUV88OZ2G</td>\n      <td>5</td>\n      <td>Great snack!</td>\n      <td>Love the snack and very affordable!I bought th...</td>\n      <td>Title: Great snack!; Content: Love the snack a...</td>\n      <td>33</td>\n      <td>[-0.018640168011188507, -0.018692713230848312,...</td>\n    </tr>\n    <tr>\n      <th>37</th>\n      <td>85600</td>\n      <td>B003ZURM80</td>\n      <td>A1O6MADFNBRX7H</td>\n      <td>5</td>\n      <td>5 Star Tea at a super price!</td>\n      <td>This tea is very good and perfect for the pric...</td>\n      <td>Title: 5 Star Tea at a super price!; Content: ...</td>\n      <td>42</td>\n      <td>[0.00045841452083550394, -0.010969262570142746...</td>\n    </tr>\n    <tr>\n      <th>38</th>\n      <td>518007</td>\n      <td>B00529PFX6</td>\n      <td>A3H4L7TJKQHW4Q</td>\n      <td>1</td>\n      <td>Expensive</td>\n      <td>This is too expensive and very tough and salty...</td>\n      <td>Title: Expensive; Content: This is too expensi...</td>\n      <td>48</td>\n      <td>[0.00021626557281706482, -0.009498722851276398...</td>\n    </tr>\n    <tr>\n      <th>39</th>\n      <td>97814</td>\n      <td>B0040J7HIU</td>\n      <td>A2VB92E7TA6EUH</td>\n      <td>3</td>\n      <td>not 40 bars</td>\n      <td>There was NOT 40 bars in my box. I opened the ...</td>\n      <td>Title: not 40 bars; Content: There was NOT 40 ...</td>\n      <td>54</td>\n      <td>[-0.017987456172704697, -0.009310455061495304,...</td>\n    </tr>\n    <tr>\n      <th>40</th>\n      <td>135229</td>\n      <td>B005YVUHU8</td>\n      <td>A2W0G89O7E9EFO</td>\n      <td>5</td>\n      <td>Awesome!!!</td>\n      <td>This flavor is the best ever!!!  It tastes bet...</td>\n      <td>Title: Awesome!!!; Content: This flavor is the...</td>\n      <td>39</td>\n      <td>[-0.0030637329909950495, 0.0017919314559549093...</td>\n    </tr>\n    <tr>\n      <th>41</th>\n      <td>443040</td>\n      <td>B001A43E6M</td>\n      <td>A32UNJZRBQENQW</td>\n      <td>5</td>\n      <td>Arizona Green Tea with Pomegranate &amp; Acai</td>\n      <td>I love the convenience of the mail order proce...</td>\n      <td>Title: Arizona Green Tea with Pomegranate &amp; Ac...</td>\n      <td>39</td>\n      <td>[0.004296167753636837, -0.012073769234120846, ...</td>\n    </tr>\n    <tr>\n      <th>42</th>\n      <td>290178</td>\n      <td>B002TAEGHC</td>\n      <td>A295JS81QH2401</td>\n      <td>5</td>\n      <td>Supurb</td>\n      <td>I was introduced to Lagavulin 16 three days ag...</td>\n      <td>Title: Supurb; Content: I was introduced to La...</td>\n      <td>69</td>\n      <td>[-0.014460811391472816, 0.014089000411331654, ...</td>\n    </tr>\n    <tr>\n      <th>43</th>\n      <td>509567</td>\n      <td>B003SO4EK2</td>\n      <td>A2MX8A4AODGYP3</td>\n      <td>4</td>\n      <td>I prefer this, but Postum IS back</td>\n      <td>I like this blend, use it lightly for a nice n...</td>\n      <td>Title: I prefer this, but Postum IS back; Cont...</td>\n      <td>80</td>\n      <td>[-0.0017564838053658605, -0.010528875514864922...</td>\n    </tr>\n    <tr>\n      <th>44</th>\n      <td>134547</td>\n      <td>B003E728CE</td>\n      <td>A2I606SLG4SWHF</td>\n      <td>5</td>\n      <td>Perfect for Giving Medications to Our Dogs</td>\n      <td>Every month, we give our three dogs (two Aussi...</td>\n      <td>Title: Perfect for Giving Medications to Our D...</td>\n      <td>189</td>\n      <td>[-0.02477782964706421, 0.020300881937146187, 0...</td>\n    </tr>\n    <tr>\n      <th>45</th>\n      <td>7177</td>\n      <td>B004OQLIHK</td>\n      <td>AKHQMSUORSA91</td>\n      <td>5</td>\n      <td>Delicious!</td>\n      <td>I have ordered these raisins multiple times.  ...</td>\n      <td>Title: Delicious!; Content: I have ordered the...</td>\n      <td>43</td>\n      <td>[-0.008882131427526474, -0.01858680509030819, ...</td>\n    </tr>\n    <tr>\n      <th>46</th>\n      <td>401971</td>\n      <td>B0006349W6</td>\n      <td>A21BT40VZCCYT4</td>\n      <td>5</td>\n      <td>Good Training Treat</td>\n      <td>My dog will come in from outside when I am tra...</td>\n      <td>Title: Good Training Treat; Content: My dog wi...</td>\n      <td>48</td>\n      <td>[-0.02448691613972187, -0.017595387995243073, ...</td>\n    </tr>\n    <tr>\n      <th>47</th>\n      <td>462087</td>\n      <td>B00611F084</td>\n      <td>A6D4ND3C3BCYV</td>\n      <td>5</td>\n      <td>Jamica Me Crazy Coffee</td>\n      <td>Wolfgang Puck's Jamaica Me Crazy is that wonde...</td>\n      <td>Title: Jamica Me Crazy Coffee; Content: Wolfga...</td>\n      <td>40</td>\n      <td>[-0.01685294136404991, -0.0051534585654735565,...</td>\n    </tr>\n    <tr>\n      <th>48</th>\n      <td>267548</td>\n      <td>B005QKH5HA</td>\n      <td>A3LR9HCV3D96I3</td>\n      <td>5</td>\n      <td>Party Peanuts</td>\n      <td>Great product for the price. Mix with the Asia...</td>\n      <td>Title: Party Peanuts; Content: Great product f...</td>\n      <td>45</td>\n      <td>[-0.010731690563261509, -0.01646377146244049, ...</td>\n    </tr>\n    <tr>\n      <th>49</th>\n      <td>542496</td>\n      <td>B001EQ5GEO</td>\n      <td>A3VYU0VO6DYV6I</td>\n      <td>5</td>\n      <td>I love Maui Coffee!</td>\n      <td>My first experience with Maui Coffee was bring...</td>\n      <td>Title: I love Maui Coffee!; Content: My first ...</td>\n      <td>118</td>\n      <td>[-0.006103473715484142, -0.015055017545819283,...</td>\n    </tr>\n  </tbody>\n</table>\n</div>"
     },
     "execution_count": 15,
     "metadata": {},
     "output_type": "execute_result"
    }
   ],
   "source": [
    "df = pd.read_csv(\"./docs/50_reviews_with_embeddings.csv\")\n",
    "\n",
    "df"
   ],
   "metadata": {
    "collapsed": false,
    "ExecuteTime": {
     "start_time": "2023-05-22T13:17:26.049863Z",
     "end_time": "2023-05-22T13:17:26.085678Z"
    }
   }
  },
  {
   "cell_type": "code",
   "execution_count": 54,
   "outputs": [],
   "source": [],
   "metadata": {
    "collapsed": false
   }
  }
 ],
 "metadata": {
  "kernelspec": {
   "display_name": "Python 3",
   "language": "python",
   "name": "python3"
  },
  "language_info": {
   "codemirror_mode": {
    "name": "ipython",
    "version": 2
   },
   "file_extension": ".py",
   "mimetype": "text/x-python",
   "name": "python",
   "nbconvert_exporter": "python",
   "pygments_lexer": "ipython2",
   "version": "2.7.6"
  }
 },
 "nbformat": 4,
 "nbformat_minor": 0
}
