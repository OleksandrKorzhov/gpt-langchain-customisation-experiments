{
 "cells": [
  {
   "cell_type": "markdown",
   "source": [
    "## Step 1 - Add your OpenAI API key.\n",
    "The key must be taken from a registered OpenAI account.\n",
    "Link to the keys sub-menu https://platform.openai.com/account/api-keys."
   ],
   "metadata": {
    "collapsed": false
   }
  },
  {
   "cell_type": "code",
   "execution_count": 10,
   "outputs": [
    {
     "name": "stdout",
     "output_type": "stream",
     "text": [
      "env: OPENAI_API_KEY=YOUR_OPENAI_API_KEY\n"
     ]
    }
   ],
   "source": [
    "%env OPENAI_API_KEY YOUR_OPENAI_API_KEY"
   ],
   "metadata": {
    "collapsed": false,
    "ExecuteTime": {
     "start_time": "2023-05-22T15:29:51.956858Z",
     "end_time": "2023-05-22T15:29:51.961295Z"
    }
   }
  },
  {
   "cell_type": "markdown",
   "source": [
    "## Step 2 - Installing necessary libraries\n",
    "The libraries below are needed for:\n",
    "- Loading of text data from files and further preparation;\n",
    "- Creating embeddings via Langchain;\n",
    "- Storing the content with embeddings;\n",
    "- Fetching the mst relevant content by the use of embeddings;\n",
    "- Prompting;"
   ],
   "metadata": {
    "collapsed": false
   }
  },
  {
   "cell_type": "code",
   "execution_count": 3,
   "outputs": [
    {
     "name": "stdout",
     "output_type": "stream",
     "text": [
      "Requirement already satisfied: langchain in ./venv/lib/python3.9/site-packages (0.0.142)\r\n",
      "Requirement already satisfied: numpy<2,>=1 in ./venv/lib/python3.9/site-packages (from langchain) (1.24.2)\r\n",
      "Requirement already satisfied: async-timeout<5.0.0,>=4.0.0 in ./venv/lib/python3.9/site-packages (from langchain) (4.0.2)\r\n",
      "Requirement already satisfied: requests<3,>=2 in ./venv/lib/python3.9/site-packages (from langchain) (2.28.2)\r\n",
      "Requirement already satisfied: dataclasses-json<0.6.0,>=0.5.7 in ./venv/lib/python3.9/site-packages (from langchain) (0.5.7)\r\n",
      "Requirement already satisfied: gptcache>=0.1.7 in ./venv/lib/python3.9/site-packages (from langchain) (0.1.13)\r\n",
      "Requirement already satisfied: numexpr<3.0.0,>=2.8.4 in ./venv/lib/python3.9/site-packages (from langchain) (2.8.4)\r\n",
      "Requirement already satisfied: tenacity<9.0.0,>=8.1.0 in ./venv/lib/python3.9/site-packages (from langchain) (8.2.2)\r\n",
      "Requirement already satisfied: PyYAML>=5.4.1 in ./venv/lib/python3.9/site-packages (from langchain) (6.0)\r\n",
      "Requirement already satisfied: pydantic<2,>=1 in ./venv/lib/python3.9/site-packages (from langchain) (1.10.7)\r\n",
      "Requirement already satisfied: openapi-schema-pydantic<2.0,>=1.2 in ./venv/lib/python3.9/site-packages (from langchain) (1.2.4)\r\n",
      "Requirement already satisfied: aiohttp<4.0.0,>=3.8.3 in ./venv/lib/python3.9/site-packages (from langchain) (3.8.4)\r\n",
      "Requirement already satisfied: SQLAlchemy<2,>=1 in ./venv/lib/python3.9/site-packages (from langchain) (1.4.47)\r\n",
      "Requirement already satisfied: frozenlist>=1.1.1 in ./venv/lib/python3.9/site-packages (from aiohttp<4.0.0,>=3.8.3->langchain) (1.3.3)\r\n",
      "Requirement already satisfied: charset-normalizer<4.0,>=2.0 in ./venv/lib/python3.9/site-packages (from aiohttp<4.0.0,>=3.8.3->langchain) (3.1.0)\r\n",
      "Requirement already satisfied: multidict<7.0,>=4.5 in ./venv/lib/python3.9/site-packages (from aiohttp<4.0.0,>=3.8.3->langchain) (6.0.4)\r\n",
      "Requirement already satisfied: attrs>=17.3.0 in ./venv/lib/python3.9/site-packages (from aiohttp<4.0.0,>=3.8.3->langchain) (23.1.0)\r\n",
      "Requirement already satisfied: aiosignal>=1.1.2 in ./venv/lib/python3.9/site-packages (from aiohttp<4.0.0,>=3.8.3->langchain) (1.3.1)\r\n",
      "Requirement already satisfied: yarl<2.0,>=1.0 in ./venv/lib/python3.9/site-packages (from aiohttp<4.0.0,>=3.8.3->langchain) (1.8.2)\r\n",
      "Requirement already satisfied: marshmallow-enum<2.0.0,>=1.5.1 in ./venv/lib/python3.9/site-packages (from dataclasses-json<0.6.0,>=0.5.7->langchain) (1.5.1)\r\n",
      "Requirement already satisfied: typing-inspect>=0.4.0 in ./venv/lib/python3.9/site-packages (from dataclasses-json<0.6.0,>=0.5.7->langchain) (0.8.0)\r\n",
      "Requirement already satisfied: marshmallow<4.0.0,>=3.3.0 in ./venv/lib/python3.9/site-packages (from dataclasses-json<0.6.0,>=0.5.7->langchain) (3.19.0)\r\n",
      "Requirement already satisfied: cachetools in ./venv/lib/python3.9/site-packages (from gptcache>=0.1.7->langchain) (5.3.0)\r\n",
      "Requirement already satisfied: openai in ./venv/lib/python3.9/site-packages (from gptcache>=0.1.7->langchain) (0.27.4)\r\n",
      "Requirement already satisfied: typing-extensions>=4.2.0 in ./venv/lib/python3.9/site-packages (from pydantic<2,>=1->langchain) (4.5.0)\r\n",
      "Requirement already satisfied: urllib3<1.27,>=1.21.1 in ./venv/lib/python3.9/site-packages (from requests<3,>=2->langchain) (1.26.15)\r\n",
      "Requirement already satisfied: certifi>=2017.4.17 in ./venv/lib/python3.9/site-packages (from requests<3,>=2->langchain) (2022.12.7)\r\n",
      "Requirement already satisfied: idna<4,>=2.5 in ./venv/lib/python3.9/site-packages (from requests<3,>=2->langchain) (3.4)\r\n",
      "Requirement already satisfied: packaging>=17.0 in ./venv/lib/python3.9/site-packages (from marshmallow<4.0.0,>=3.3.0->dataclasses-json<0.6.0,>=0.5.7->langchain) (23.1)\r\n",
      "Requirement already satisfied: mypy-extensions>=0.3.0 in ./venv/lib/python3.9/site-packages (from typing-inspect>=0.4.0->dataclasses-json<0.6.0,>=0.5.7->langchain) (1.0.0)\r\n",
      "Requirement already satisfied: tqdm in ./venv/lib/python3.9/site-packages (from openai->gptcache>=0.1.7->langchain) (4.65.0)\r\n",
      "\r\n",
      "\u001B[1m[\u001B[0m\u001B[34;49mnotice\u001B[0m\u001B[1;39;49m]\u001B[0m\u001B[39;49m A new release of pip available: \u001B[0m\u001B[31;49m22.3.1\u001B[0m\u001B[39;49m -> \u001B[0m\u001B[32;49m23.1.2\u001B[0m\r\n",
      "\u001B[1m[\u001B[0m\u001B[34;49mnotice\u001B[0m\u001B[1;39;49m]\u001B[0m\u001B[39;49m To update, run: \u001B[0m\u001B[32;49mpip install --upgrade pip\u001B[0m\r\n",
      "Requirement already satisfied: faiss-cpu in ./venv/lib/python3.9/site-packages (1.7.4)\r\n",
      "\r\n",
      "\u001B[1m[\u001B[0m\u001B[34;49mnotice\u001B[0m\u001B[1;39;49m]\u001B[0m\u001B[39;49m A new release of pip available: \u001B[0m\u001B[31;49m22.3.1\u001B[0m\u001B[39;49m -> \u001B[0m\u001B[32;49m23.1.2\u001B[0m\r\n",
      "\u001B[1m[\u001B[0m\u001B[34;49mnotice\u001B[0m\u001B[1;39;49m]\u001B[0m\u001B[39;49m To update, run: \u001B[0m\u001B[32;49mpip install --upgrade pip\u001B[0m\r\n",
      "Requirement already satisfied: pinecone-client in ./venv/lib/python3.9/site-packages (2.2.1)\r\n",
      "Requirement already satisfied: loguru>=0.5.0 in ./venv/lib/python3.9/site-packages (from pinecone-client) (0.7.0)\r\n",
      "Requirement already satisfied: python-dateutil>=2.5.3 in ./venv/lib/python3.9/site-packages (from pinecone-client) (2.8.2)\r\n",
      "Requirement already satisfied: pyyaml>=5.4 in ./venv/lib/python3.9/site-packages (from pinecone-client) (6.0)\r\n",
      "Requirement already satisfied: numpy in ./venv/lib/python3.9/site-packages (from pinecone-client) (1.24.2)\r\n",
      "Requirement already satisfied: requests>=2.19.0 in ./venv/lib/python3.9/site-packages (from pinecone-client) (2.28.2)\r\n",
      "Requirement already satisfied: tqdm>=4.64.1 in ./venv/lib/python3.9/site-packages (from pinecone-client) (4.65.0)\r\n",
      "Requirement already satisfied: urllib3>=1.21.1 in ./venv/lib/python3.9/site-packages (from pinecone-client) (1.26.15)\r\n",
      "Requirement already satisfied: dnspython>=2.0.0 in ./venv/lib/python3.9/site-packages (from pinecone-client) (2.3.0)\r\n",
      "Requirement already satisfied: typing-extensions>=3.7.4 in ./venv/lib/python3.9/site-packages (from pinecone-client) (4.5.0)\r\n",
      "Requirement already satisfied: six>=1.5 in ./venv/lib/python3.9/site-packages (from python-dateutil>=2.5.3->pinecone-client) (1.16.0)\r\n",
      "Requirement already satisfied: charset-normalizer<4,>=2 in ./venv/lib/python3.9/site-packages (from requests>=2.19.0->pinecone-client) (3.1.0)\r\n",
      "Requirement already satisfied: idna<4,>=2.5 in ./venv/lib/python3.9/site-packages (from requests>=2.19.0->pinecone-client) (3.4)\r\n",
      "Requirement already satisfied: certifi>=2017.4.17 in ./venv/lib/python3.9/site-packages (from requests>=2.19.0->pinecone-client) (2022.12.7)\r\n",
      "\r\n",
      "\u001B[1m[\u001B[0m\u001B[34;49mnotice\u001B[0m\u001B[1;39;49m]\u001B[0m\u001B[39;49m A new release of pip available: \u001B[0m\u001B[31;49m22.3.1\u001B[0m\u001B[39;49m -> \u001B[0m\u001B[32;49m23.1.2\u001B[0m\r\n",
      "\u001B[1m[\u001B[0m\u001B[34;49mnotice\u001B[0m\u001B[1;39;49m]\u001B[0m\u001B[39;49m To update, run: \u001B[0m\u001B[32;49mpip install --upgrade pip\u001B[0m\r\n"
     ]
    }
   ],
   "source": [
    "!pip install langchain\n",
    "!pip install faiss-cpu\n",
    "!pip install pinecone-client"
   ],
   "metadata": {
    "collapsed": false,
    "ExecuteTime": {
     "start_time": "2023-05-22T15:11:35.843507Z",
     "end_time": "2023-05-22T15:11:39.353606Z"
    }
   }
  },
  {
   "cell_type": "markdown",
   "source": [
    "## Step 3 - Libraries import\n",
    "Imported libraries will be used across the whole notebook"
   ],
   "metadata": {
    "collapsed": false
   }
  },
  {
   "cell_type": "code",
   "execution_count": 4,
   "outputs": [],
   "source": [
    "from langchain.document_loaders import TextLoader\n",
    "from langchain.text_splitter import CharacterTextSplitter\n",
    "from langchain.vectorstores import FAISS\n",
    "from langchain.embeddings import OpenAIEmbeddings"
   ],
   "metadata": {
    "collapsed": false,
    "ExecuteTime": {
     "start_time": "2023-05-22T15:11:42.738264Z",
     "end_time": "2023-05-22T15:11:43.296512Z"
    }
   }
  },
  {
   "cell_type": "markdown",
   "source": [
    "## Step 4 - Instantiating tools for creating embeddings\n",
    "This step will instantiate tools and create necessary embedding for the provided document - `docs/preprocessed_with_gpt/what_is_microservice_architecture.txt`.\n",
    "\n",
    "The document taken is prepared with GPT by the prompt provided in the [content chunking](./content_chunking.ipynb) notebook."
   ],
   "metadata": {
    "collapsed": false
   }
  },
  {
   "cell_type": "code",
   "execution_count": 5,
   "outputs": [
    {
     "name": "stderr",
     "output_type": "stream",
     "text": [
      "Created a chunk of size 409, which is longer than the specified 100\n",
      "Created a chunk of size 848, which is longer than the specified 100\n",
      "Created a chunk of size 1077, which is longer than the specified 100\n",
      "Created a chunk of size 2231, which is longer than the specified 100\n",
      "Created a chunk of size 2425, which is longer than the specified 100\n",
      "Created a chunk of size 1525, which is longer than the specified 100\n"
     ]
    },
    {
     "data": {
      "text/plain": "Document(page_content='General title: Microservice Architecture Style\\nMicroservice Architecture Style - Overview\\nA microservices architecture consists of a collection of small, autonomous services. Each service is self-contained and should implement a single business capability within a bounded context. A bounded context is a natural division within a business and provides an explicit boundary within which a domain model exists.', metadata={'source': './docs/preprocessed_with_gpt/what_is_microservice_architecture.txt'})"
     },
     "execution_count": 5,
     "metadata": {},
     "output_type": "execute_result"
    }
   ],
   "source": [
    "loader = TextLoader(file_path=\"./docs/preprocessed_with_gpt/what_is_microservice_architecture.txt\")\n",
    "text_splitter = CharacterTextSplitter(\n",
    "    separator=\"\\n\\n\",\n",
    "    chunk_size=100,\n",
    "    chunk_overlap=10,\n",
    "    length_function=len\n",
    ")\n",
    "embeddings = OpenAIEmbeddings()\n",
    "\n",
    "docs = loader.load_and_split(text_splitter=text_splitter)\n",
    "\n",
    "docs[0]"
   ],
   "metadata": {
    "collapsed": false,
    "ExecuteTime": {
     "start_time": "2023-05-22T15:11:49.408350Z",
     "end_time": "2023-05-22T15:11:49.571776Z"
    }
   }
  },
  {
   "cell_type": "markdown",
   "source": [
    "## Step 5 - Creating storage\n",
    "Creates storage for content with embeddings and saved it to the local filesystem.\n",
    "\n",
    "This step will create a folder with encoded data and indexes for FAISS."
   ],
   "metadata": {
    "collapsed": false
   }
  },
  {
   "cell_type": "code",
   "execution_count": 7,
   "outputs": [
    {
     "data": {
      "text/plain": "'\\nWhat the above operation will do under the hood\\n'"
     },
     "execution_count": 7,
     "metadata": {},
     "output_type": "execute_result"
    }
   ],
   "source": [
    "store = FAISS.from_documents(docs, embedding=embeddings)\n",
    "store.save_local(\"what_is_microservice_architecture.faiss_index\")\n",
    "\n",
    "\"\"\"\n",
    "What the above operation will do under the hood\n",
    "\"\"\"\n",
    "# faiss.write_index(store.index, \"what_is_microservice_architecture.index\")\n",
    "# store.index = None\n",
    "#\n",
    "# with open(\"what_is_microservice_architecture.pkl\", \"wb\") as faiss_store_dump:\n",
    "#     pickle.dump(store, faiss_store_dump)"
   ],
   "metadata": {
    "collapsed": false,
    "ExecuteTime": {
     "start_time": "2023-05-22T15:20:14.089005Z",
     "end_time": "2023-05-22T15:20:17.525426Z"
    }
   }
  },
  {
   "cell_type": "markdown",
   "source": [
    "## Step 6 - Loading data into index\n",
    "This step will load data into FAISS index and create store that can be further used for searching.\n",
    "\n",
    "The steps above are separated to prevent tokens waste. As the content has embeddings and is stored locally it can be used for multiple data fetches."
   ],
   "metadata": {
    "collapsed": false
   }
  },
  {
   "cell_type": "code",
   "execution_count": 6,
   "outputs": [
    {
     "data": {
      "text/plain": "'\\nWhat the above operation will do under the hood\\n'"
     },
     "execution_count": 6,
     "metadata": {},
     "output_type": "execute_result"
    }
   ],
   "source": [
    "faiss_store = FAISS.load_local(\"what_is_microservice_architecture.faiss_index\", embeddings)\n",
    "\n",
    "\"\"\"\n",
    "What the above operation will do under the hood\n",
    "\"\"\"\n",
    "# index = faiss.read_index(\"what_is_microservice_architecture.index\")\n",
    "#\n",
    "# with open(\"what_is_microservice_architecture.pkl\", \"rb\") as faiss_store_dump:\n",
    "#     faiss_store = pickle.load(faiss_store_dump)\n",
    "#\n",
    "# faiss_store.index = index"
   ],
   "metadata": {
    "collapsed": false,
    "ExecuteTime": {
     "start_time": "2023-05-22T15:20:03.671336Z",
     "end_time": "2023-05-22T15:20:03.823349Z"
    }
   }
  },
  {
   "cell_type": "markdown",
   "source": [
    "Both methods below produce similar search result and both return more documents that it is required by the context of the question.\n",
    "\n",
    "The method with search score allows to sort documents after they retrieved from the store and use only the most relevant in the prompt."
   ],
   "metadata": {
    "collapsed": false
   }
  },
  {
   "cell_type": "markdown",
   "source": [
    "## Step 7 - Data fetching test\n",
    "The result will have the document found and the \"match score\". The lover the core is the better match between the query and the found document."
   ],
   "metadata": {
    "collapsed": false
   }
  },
  {
   "cell_type": "code",
   "execution_count": 8,
   "outputs": [
    {
     "data": {
      "text/plain": "[(Document(page_content=\"Microservice Architecture Style - Challenges\\nThe benefits of microservices don't come for free. Here are some of the challenges to consider before embarking on a microservices architecture. Complexity. A microservices application has more moving parts than the equivalent monolithic application. Each service is simpler, but the entire system as a whole is more complex. Development and testing. Writing a small service that relies on other dependent services requires a different approach than a writing a traditional monolithic or layered application. Existing tools are not always designed to work with service dependencies. Refactoring across service boundaries can be difficult. It is also challenging to test service dependencies, especially when the application is evolving quickly. Lack of governance. The decentralized approach to building microservices has advantages, but it can also lead to problems. You might end up with so many different languages and frameworks that the application becomes hard to maintain. It might be useful to put some project-wide standards in place, without overly restricting teams' flexibility. This especially applies to cross-cutting functionality such as logging. Network congestion and latency. The use of many small, granular services can result in more interservice communication. Also, if the chain of service dependencies gets too long (service A calls B, which calls C...), the additional latency can become a problem. You will need to design APIs carefully. Avoid overly chatty APIs, think about serialization formats, and look for places to use asynchronous communication patterns like queue-based load leveling. Data integrity. With each microservice responsible for its own data persistence. As a result, data consistency can be a challenge. Embrace eventual consistency where possible. Management. To be successful with microservices requires a mature DevOps culture. Correlated logging across services can be challenging. Typically, logging must correlate multiple service calls for a single user operation. Versioning. Updates to a service must not break services that depend on it. Multiple services could be updated at any given time, so without careful design, you might have problems with backward or forward compatibility. Skill set. Microservices are highly distributed systems. Carefully evaluate whether the team has the skills and experience to be successful.\", metadata={'source': './docs/preprocessed_with_gpt/what_is_microservice_architecture.txt'}),\n  0.20798293),\n (Document(page_content=\"Microservice Architecture Style - Benefits\\nAgility. Because microservices are deployed independently, it's easier to manage bug fixes and feature releases. You can update a service without redeploying the entire application, and roll back an update if something goes wrong. In many traditional applications, if a bug is found in one part of the application, it can block the entire release process. New features might be held up waiting for a bug fix to be integrated, tested, and published. Small, focused teams. A microservice should be small enough that a single feature team can build, test, and deploy it. Small team sizes promote greater agility. Large teams tend be less productive, because communication is slower, management overhead goes up, and agility diminishes. Small code base. In a monolithic application, there is a tendency over time for code dependencies to become tangled. Adding a new feature requires touching code in a lot of places. By not sharing code or data stores, a microservices architecture minimizes dependencies, and that makes it easier to add new features. Mix of technologies. Teams can pick the technology that best fits their service, using a mix of technology stacks as appropriate. Fault isolation. If an individual microservice becomes unavailable, it won't disrupt the entire application, as long as any upstream microservices are designed to handle faults correctly. For example, you can implement the Circuit Breaker pattern, or you can design your solution so that the microservices communicate with each other using asynchronous messaging patterns. Scalability. Services can be scaled independently, letting you scale out subsystems that require more resources, without scaling out the entire application. Using an orchestrator such as Kubernetes or Service Fabric, you can pack a higher density of services onto a single host, which allows for more efficient utilization of resources. Data isolation. It is much easier to perform schema updates, because only a single microservice is affected. In a monolithic application, schema updates can become very challenging, because different parts of the application might all touch the same data, making any alterations to the schema risky.\", metadata={'source': './docs/preprocessed_with_gpt/what_is_microservice_architecture.txt'}),\n  0.2515248),\n (Document(page_content=\"Microservice Architecture Style - What are Microservices?\\nMicroservices are small, independent, and loosely coupled. A single small team of developers can write and maintain a service. Each service is a separate codebase, which can be managed by a small development team. Services can be deployed independently. A team can update an existing service without rebuilding and redeploying the entire application. Services are responsible for persisting their own data or external state. This differs from the traditional model, where a separate data layer handles data persistence. Services communicate with each other by using well-defined APIs. Internal implementation details of each service are hidden from other services. Supports polyglot programming. For example, services don't need to share the same technology stack, libraries, or frameworks.\", metadata={'source': './docs/preprocessed_with_gpt/what_is_microservice_architecture.txt'}),\n  0.2890854),\n (Document(page_content='Microservice Architecture Style - Components\\nBesides for the services themselves, some other components appear in a typical microservices architecture: Management/orchestration. This component is responsible for placing services on nodes, identifying failures, rebalancing services across nodes, and so forth. Typically this component is an off-the-shelf technology such as Kubernetes, rather than something custom built. API Gateway. The API gateway is the entry point for clients. Instead of calling services directly, clients call the API gateway, which forwards the call to the appropriate services on the back end. Advantages of using an API gateway include: It decouples clients from services. Services can be versioned or refactored without needing to update all of the clients. Services can use messaging protocols that are not web friendly, such as AMQP. The API Gateway can perform other cross-cutting functions such as authentication, logging, SSL termination, and load balancing. Out-of-the-box policies, like for throttling, caching, transformation, or validation.', metadata={'source': './docs/preprocessed_with_gpt/what_is_microservice_architecture.txt'}),\n  0.29862118)]"
     },
     "execution_count": 8,
     "metadata": {},
     "output_type": "execute_result"
    }
   ],
   "source": [
    "query = \"What problems does microservice architecture has?\"\n",
    "documents = faiss_store.similarity_search_with_score(query)\n",
    "\n",
    "documents"
   ],
   "metadata": {
    "collapsed": false,
    "ExecuteTime": {
     "start_time": "2023-05-22T15:20:53.426645Z",
     "end_time": "2023-05-22T15:20:54.013852Z"
    }
   }
  },
  {
   "cell_type": "code",
   "execution_count": 9,
   "outputs": [
    {
     "data": {
      "text/plain": "[(Document(page_content=\"Microservice Architecture Style - Challenges\\nThe benefits of microservices don't come for free. Here are some of the challenges to consider before embarking on a microservices architecture. Complexity. A microservices application has more moving parts than the equivalent monolithic application. Each service is simpler, but the entire system as a whole is more complex. Development and testing. Writing a small service that relies on other dependent services requires a different approach than a writing a traditional monolithic or layered application. Existing tools are not always designed to work with service dependencies. Refactoring across service boundaries can be difficult. It is also challenging to test service dependencies, especially when the application is evolving quickly. Lack of governance. The decentralized approach to building microservices has advantages, but it can also lead to problems. You might end up with so many different languages and frameworks that the application becomes hard to maintain. It might be useful to put some project-wide standards in place, without overly restricting teams' flexibility. This especially applies to cross-cutting functionality such as logging. Network congestion and latency. The use of many small, granular services can result in more interservice communication. Also, if the chain of service dependencies gets too long (service A calls B, which calls C...), the additional latency can become a problem. You will need to design APIs carefully. Avoid overly chatty APIs, think about serialization formats, and look for places to use asynchronous communication patterns like queue-based load leveling. Data integrity. With each microservice responsible for its own data persistence. As a result, data consistency can be a challenge. Embrace eventual consistency where possible. Management. To be successful with microservices requires a mature DevOps culture. Correlated logging across services can be challenging. Typically, logging must correlate multiple service calls for a single user operation. Versioning. Updates to a service must not break services that depend on it. Multiple services could be updated at any given time, so without careful design, you might have problems with backward or forward compatibility. Skill set. Microservices are highly distributed systems. Carefully evaluate whether the team has the skills and experience to be successful.\", metadata={'source': './docs/preprocessed_with_gpt/what_is_microservice_architecture.txt'}),\n  0.20805846),\n (Document(page_content=\"Microservice Architecture Style - Benefits\\nAgility. Because microservices are deployed independently, it's easier to manage bug fixes and feature releases. You can update a service without redeploying the entire application, and roll back an update if something goes wrong. In many traditional applications, if a bug is found in one part of the application, it can block the entire release process. New features might be held up waiting for a bug fix to be integrated, tested, and published. Small, focused teams. A microservice should be small enough that a single feature team can build, test, and deploy it. Small team sizes promote greater agility. Large teams tend be less productive, because communication is slower, management overhead goes up, and agility diminishes. Small code base. In a monolithic application, there is a tendency over time for code dependencies to become tangled. Adding a new feature requires touching code in a lot of places. By not sharing code or data stores, a microservices architecture minimizes dependencies, and that makes it easier to add new features. Mix of technologies. Teams can pick the technology that best fits their service, using a mix of technology stacks as appropriate. Fault isolation. If an individual microservice becomes unavailable, it won't disrupt the entire application, as long as any upstream microservices are designed to handle faults correctly. For example, you can implement the Circuit Breaker pattern, or you can design your solution so that the microservices communicate with each other using asynchronous messaging patterns. Scalability. Services can be scaled independently, letting you scale out subsystems that require more resources, without scaling out the entire application. Using an orchestrator such as Kubernetes or Service Fabric, you can pack a higher density of services onto a single host, which allows for more efficient utilization of resources. Data isolation. It is much easier to perform schema updates, because only a single microservice is affected. In a monolithic application, schema updates can become very challenging, because different parts of the application might all touch the same data, making any alterations to the schema risky.\", metadata={'source': './docs/preprocessed_with_gpt/what_is_microservice_architecture.txt'}),\n  0.25154525),\n (Document(page_content=\"Microservice Architecture Style - What are Microservices?\\nMicroservices are small, independent, and loosely coupled. A single small team of developers can write and maintain a service. Each service is a separate codebase, which can be managed by a small development team. Services can be deployed independently. A team can update an existing service without rebuilding and redeploying the entire application. Services are responsible for persisting their own data or external state. This differs from the traditional model, where a separate data layer handles data persistence. Services communicate with each other by using well-defined APIs. Internal implementation details of each service are hidden from other services. Supports polyglot programming. For example, services don't need to share the same technology stack, libraries, or frameworks.\", metadata={'source': './docs/preprocessed_with_gpt/what_is_microservice_architecture.txt'}),\n  0.28917456),\n (Document(page_content='Microservice Architecture Style - Components\\nBesides for the services themselves, some other components appear in a typical microservices architecture: Management/orchestration. This component is responsible for placing services on nodes, identifying failures, rebalancing services across nodes, and so forth. Typically this component is an off-the-shelf technology such as Kubernetes, rather than something custom built. API Gateway. The API gateway is the entry point for clients. Instead of calling services directly, clients call the API gateway, which forwards the call to the appropriate services on the back end. Advantages of using an API gateway include: It decouples clients from services. Services can be versioned or refactored without needing to update all of the clients. Services can use messaging protocols that are not web friendly, such as AMQP. The API Gateway can perform other cross-cutting functions such as authentication, logging, SSL termination, and load balancing. Out-of-the-box policies, like for throttling, caching, transformation, or validation.', metadata={'source': './docs/preprocessed_with_gpt/what_is_microservice_architecture.txt'}),\n  0.2986762)]"
     },
     "execution_count": 9,
     "metadata": {},
     "output_type": "execute_result"
    }
   ],
   "source": [
    "embedded_query = embeddings.embed_query(query)\n",
    "documents = faiss_store.similarity_search_with_score_by_vector(embedded_query)\n",
    "\n",
    "documents"
   ],
   "metadata": {
    "collapsed": false,
    "ExecuteTime": {
     "start_time": "2023-05-22T15:22:55.595524Z",
     "end_time": "2023-05-22T15:22:55.749720Z"
    }
   }
  },
  {
   "cell_type": "markdown",
   "source": [
    "## Step 8 - Work with hosted vector DB\n",
    "The code below does the same job as the code above. The difference is that it uses a hosted, production-ready vector DB - `Pinecone`.\n",
    "\n",
    "Current ecosystem has a large amount of data storage solutions to offer. `Pinecone` is probably one of the most widely mentioned and simple DBs around."
   ],
   "metadata": {
    "collapsed": false
   }
  },
  {
   "cell_type": "code",
   "execution_count": 29,
   "outputs": [],
   "source": [
    "import pinecone\n",
    "from langchain.vectorstores import Pinecone\n",
    "\n",
    "pinecone.init(\n",
    "    api_key=\"YOUR_PINECONE_API_KEY\",\n",
    "    environment=\"us-west1-gcp-free\"\n",
    ")\n",
    "\n",
    "pinecone_db = Pinecone.from_documents(documents=docs, embedding=embeddings, index_name=\"llm-general-data-cosine-v2\")"
   ],
   "metadata": {
    "collapsed": false,
    "ExecuteTime": {
     "start_time": "2023-04-30T20:23:17.131927Z",
     "end_time": "2023-04-30T20:23:21.644141Z"
    }
   }
  },
  {
   "cell_type": "code",
   "execution_count": 30,
   "outputs": [
    {
     "data": {
      "text/plain": "[Document(page_content=\"Microservice Architecture Style - Challenges\\nThe benefits of microservices don't come for free. Here are some of the challenges to consider before embarking on a microservices architecture. Complexity. A microservices application has more moving parts than the equivalent monolithic application. Each service is simpler, but the entire system as a whole is more complex. Development and testing. Writing a small service that relies on other dependent services requires a different approach than a writing a traditional monolithic or layered application. Existing tools are not always designed to work with service dependencies. Refactoring across service boundaries can be difficult. It is also challenging to test service dependencies, especially when the application is evolving quickly. Lack of governance. The decentralized approach to building microservices has advantages, but it can also lead to problems. You might end up with so many different languages and frameworks that the application becomes hard to maintain. It might be useful to put some project-wide standards in place, without overly restricting teams' flexibility. This especially applies to cross-cutting functionality such as logging. Network congestion and latency. The use of many small, granular services can result in more interservice communication. Also, if the chain of service dependencies gets too long (service A calls B, which calls C...), the additional latency can become a problem. You will need to design APIs carefully. Avoid overly chatty APIs, think about serialization formats, and look for places to use asynchronous communication patterns like queue-based load leveling. Data integrity. With each microservice responsible for its own data persistence. As a result, data consistency can be a challenge. Embrace eventual consistency where possible. Management. To be successful with microservices requires a mature DevOps culture. Correlated logging across services can be challenging. Typically, logging must correlate multiple service calls for a single user operation. Versioning. Updates to a service must not break services that depend on it. Multiple services could be updated at any given time, so without careful design, you might have problems with backward or forward compatibility. Skill set. Microservices are highly distributed systems. Carefully evaluate whether the team has the skills and experience to be successful.\", metadata={'source': './docs/preprocessed_with_gpt/what_is_microservice_architecture.txt'}),\n Document(page_content=\"Microservice Architecture Style - Benefits\\nAgility. Because microservices are deployed independently, it's easier to manage bug fixes and feature releases. You can update a service without redeploying the entire application, and roll back an update if something goes wrong. In many traditional applications, if a bug is found in one part of the application, it can block the entire release process. New features might be held up waiting for a bug fix to be integrated, tested, and published. Small, focused teams. A microservice should be small enough that a single feature team can build, test, and deploy it. Small team sizes promote greater agility. Large teams tend be less productive, because communication is slower, management overhead goes up, and agility diminishes. Small code base. In a monolithic application, there is a tendency over time for code dependencies to become tangled. Adding a new feature requires touching code in a lot of places. By not sharing code or data stores, a microservices architecture minimizes dependencies, and that makes it easier to add new features. Mix of technologies. Teams can pick the technology that best fits their service, using a mix of technology stacks as appropriate. Fault isolation. If an individual microservice becomes unavailable, it won't disrupt the entire application, as long as any upstream microservices are designed to handle faults correctly. For example, you can implement the Circuit Breaker pattern, or you can design your solution so that the microservices communicate with each other using asynchronous messaging patterns. Scalability. Services can be scaled independently, letting you scale out subsystems that require more resources, without scaling out the entire application. Using an orchestrator such as Kubernetes or Service Fabric, you can pack a higher density of services onto a single host, which allows for more efficient utilization of resources. Data isolation. It is much easier to perform schema updates, because only a single microservice is affected. In a monolithic application, schema updates can become very challenging, because different parts of the application might all touch the same data, making any alterations to the schema risky.\", metadata={'source': './docs/preprocessed_with_gpt/what_is_microservice_architecture.txt'}),\n Document(page_content=\"Microservice Architecture Style - What are Microservices?\\nMicroservices are small, independent, and loosely coupled. A single small team of developers can write and maintain a service. Each service is a separate codebase, which can be managed by a small development team. Services can be deployed independently. A team can update an existing service without rebuilding and redeploying the entire application. Services are responsible for persisting their own data or external state. This differs from the traditional model, where a separate data layer handles data persistence. Services communicate with each other by using well-defined APIs. Internal implementation details of each service are hidden from other services. Supports polyglot programming. For example, services don't need to share the same technology stack, libraries, or frameworks.\", metadata={'source': './docs/preprocessed_with_gpt/what_is_microservice_architecture.txt'}),\n Document(page_content='Microservice Architecture Style - Components\\nBesides for the services themselves, some other components appear in a typical microservices architecture: Management/orchestration. This component is responsible for placing services on nodes, identifying failures, rebalancing services across nodes, and so forth. Typically this component is an off-the-shelf technology such as Kubernetes, rather than something custom built. API Gateway. The API gateway is the entry point for clients. Instead of calling services directly, clients call the API gateway, which forwards the call to the appropriate services on the back end. Advantages of using an API gateway include: It decouples clients from services. Services can be versioned or refactored without needing to update all of the clients. Services can use messaging protocols that are not web friendly, such as AMQP. The API Gateway can perform other cross-cutting functions such as authentication, logging, SSL termination, and load balancing. Out-of-the-box policies, like for throttling, caching, transformation, or validation.', metadata={'source': './docs/preprocessed_with_gpt/what_is_microservice_architecture.txt'})]"
     },
     "execution_count": 30,
     "metadata": {},
     "output_type": "execute_result"
    }
   ],
   "source": [
    "\"\"\"\n",
    "Pinecone produces the result of similar quality as FAISS\n",
    "\"\"\"\n",
    "\n",
    "result = pinecone_db.similarity_search(query)\n",
    "\n",
    "result"
   ],
   "metadata": {
    "collapsed": false,
    "ExecuteTime": {
     "start_time": "2023-04-30T20:23:43.275979Z",
     "end_time": "2023-04-30T20:23:43.610246Z"
    }
   }
  },
  {
   "cell_type": "code",
   "execution_count": null,
   "outputs": [],
   "source": [],
   "metadata": {
    "collapsed": false
   }
  }
 ],
 "metadata": {
  "kernelspec": {
   "display_name": "Python 3",
   "language": "python",
   "name": "python3"
  },
  "language_info": {
   "codemirror_mode": {
    "name": "ipython",
    "version": 2
   },
   "file_extension": ".py",
   "mimetype": "text/x-python",
   "name": "python",
   "nbconvert_exporter": "python",
   "pygments_lexer": "ipython2",
   "version": "2.7.6"
  }
 },
 "nbformat": 4,
 "nbformat_minor": 0
}
